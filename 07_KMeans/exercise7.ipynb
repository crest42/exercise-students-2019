{
 "cells": [
  {
   "cell_type": "code",
   "execution_count": 802,
   "metadata": {},
   "outputs": [
    {
     "data": {
      "text/html": [
       "<div>\n",
       "<style scoped>\n",
       "    .dataframe tbody tr th:only-of-type {\n",
       "        vertical-align: middle;\n",
       "    }\n",
       "\n",
       "    .dataframe tbody tr th {\n",
       "        vertical-align: top;\n",
       "    }\n",
       "\n",
       "    .dataframe thead th {\n",
       "        text-align: right;\n",
       "    }\n",
       "</style>\n",
       "<table border=\"1\" class=\"dataframe\">\n",
       "  <thead>\n",
       "    <tr style=\"text-align: right;\">\n",
       "      <th></th>\n",
       "      <th>sepal length (cm)</th>\n",
       "      <th>sepal width (cm)</th>\n",
       "      <th>petal length (cm)</th>\n",
       "      <th>petal width (cm)</th>\n",
       "      <th>target</th>\n",
       "      <th>target_name</th>\n",
       "    </tr>\n",
       "  </thead>\n",
       "  <tbody>\n",
       "    <tr>\n",
       "      <th>0</th>\n",
       "      <td>5.1</td>\n",
       "      <td>3.5</td>\n",
       "      <td>1.4</td>\n",
       "      <td>0.2</td>\n",
       "      <td>0</td>\n",
       "      <td>setosa</td>\n",
       "    </tr>\n",
       "    <tr>\n",
       "      <th>1</th>\n",
       "      <td>4.9</td>\n",
       "      <td>3.0</td>\n",
       "      <td>1.4</td>\n",
       "      <td>0.2</td>\n",
       "      <td>0</td>\n",
       "      <td>setosa</td>\n",
       "    </tr>\n",
       "    <tr>\n",
       "      <th>2</th>\n",
       "      <td>4.7</td>\n",
       "      <td>3.2</td>\n",
       "      <td>1.3</td>\n",
       "      <td>0.2</td>\n",
       "      <td>0</td>\n",
       "      <td>setosa</td>\n",
       "    </tr>\n",
       "    <tr>\n",
       "      <th>3</th>\n",
       "      <td>4.6</td>\n",
       "      <td>3.1</td>\n",
       "      <td>1.5</td>\n",
       "      <td>0.2</td>\n",
       "      <td>0</td>\n",
       "      <td>setosa</td>\n",
       "    </tr>\n",
       "    <tr>\n",
       "      <th>4</th>\n",
       "      <td>5.0</td>\n",
       "      <td>3.6</td>\n",
       "      <td>1.4</td>\n",
       "      <td>0.2</td>\n",
       "      <td>0</td>\n",
       "      <td>setosa</td>\n",
       "    </tr>\n",
       "  </tbody>\n",
       "</table>\n",
       "</div>"
      ],
      "text/plain": [
       "   sepal length (cm)  sepal width (cm)  petal length (cm)  petal width (cm)  \\\n",
       "0                5.1               3.5                1.4               0.2   \n",
       "1                4.9               3.0                1.4               0.2   \n",
       "2                4.7               3.2                1.3               0.2   \n",
       "3                4.6               3.1                1.5               0.2   \n",
       "4                5.0               3.6                1.4               0.2   \n",
       "\n",
       "   target target_name  \n",
       "0       0      setosa  \n",
       "1       0      setosa  \n",
       "2       0      setosa  \n",
       "3       0      setosa  \n",
       "4       0      setosa  "
      ]
     },
     "execution_count": 802,
     "metadata": {},
     "output_type": "execute_result"
    }
   ],
   "source": [
    "%matplotlib inline\n",
    "from sklearn import datasets\n",
    "import pandas as pd\n",
    "import numpy as np\n",
    "import numpy as np\n",
    "import matplotlib.pyplot as plt\n",
    "from mpl_toolkits.mplot3d import Axes3D\n",
    "\n",
    "from sklearn.cluster import KMeans\n",
    "from sklearn import datasets\n",
    "iris = datasets.load_iris()\n",
    "iris_df = pd.DataFrame(iris.data, columns=iris.feature_names)\n",
    "iris_df['target'] = iris.target\n",
    "iris_df[\"target_name\"]=iris['target_names'][iris_df['target']] \n",
    "iris_df.head()"
   ]
  },
  {
   "cell_type": "markdown",
   "metadata": {},
   "source": [
    "## 7.1 Cluster the data using the KMeans implementation of scikit-learn!\n",
    "\n",
    "* Resource: <http://scikit-learn.org/stable/auto_examples/cluster/plot_cluster_iris.html>\n",
    "* Measure the runtime for training the model!\n",
    "* Experiment with different number of clusters! What are your observations!\n",
    "* Plot the results!"
   ]
  },
  {
   "cell_type": "code",
   "execution_count": 803,
   "metadata": {},
   "outputs": [
    {
     "data": {
      "text/plain": [
       "<matplotlib.axes._subplots.AxesSubplot at 0x2abb8abaa630>"
      ]
     },
     "execution_count": 803,
     "metadata": {},
     "output_type": "execute_result"
    },
    {
     "data": {
      "image/png": "[encoded data removed]",
      "text/plain": [
       "<Figure size 432x288 with 1 Axes>"
      ]
     },
     "metadata": {
      "needs_background": "light"
     },
     "output_type": "display_data"
    }
   ],
   "source": [
    "import time as t\n",
    "X = iris_df[[\"sepal length (cm)\",\"sepal width (cm)\",\"petal length (cm)\",\"petal width (cm)\"]]\n",
    "runtimes = []\n",
    "\n",
    "for i in range(1,32):\n",
    "    estimator = KMeans(n_clusters=i)\n",
    "    start = t.time()\n",
    "    estimator.fit(X)\n",
    "    runtime = t.time()-start\n",
    "    runtimes.append(runtime)\n",
    "    #print(\"Runtime for \" + str(i) + \" cluster is \" + str(runtime))\n",
    "    \n",
    "#layout = {'8': [float(t[0]),float(t[2])],\n",
    "#          '16': [float(t[1]),float(t[3])]}\n",
    "plot_df = pd.DataFrame({'runtimes': runtimes})\n",
    "plot_df\n",
    "plot_df.plot()"
   ]
  },
  {
   "cell_type": "markdown",
   "metadata": {},
   "source": [
    "## 7.2 MLlib Clustering\n",
    "\n",
    "* MLLib KMeans Example: \n",
    "    * <https://spark.apache.org/docs/latest/ml-clustering.html>\n",
    "    * <https://spark.apache.org/docs/latest/api/python/>\n",
    "    * <https://spark.apache.org/docs/latest/api/python/pyspark.ml.html#pyspark.ml.evaluation.ClusteringEvaluator>\n",
    "* Run KMeans on the provided Iris dataset!"
   ]
  },
  {
   "cell_type": "code",
   "execution_count": 804,
   "metadata": {},
   "outputs": [
    {
     "ename": "ValueError",
     "evalue": "Cannot run multiple SparkContexts at once; existing SparkContext(app=PySpark Lecture, master=local[1]) created by __init__ at <ipython-input-3-79f80fc5169f>:11 ",
     "output_type": "error",
     "traceback": [
      "\u001b[0;31m---------------------------------------------------------------------------\u001b[0m",
      "\u001b[0;31mValueError\u001b[0m                                Traceback (most recent call last)",
      "\u001b[0;32m<ipython-input-804-79f80fc5169f>\u001b[0m in \u001b[0;36m<module>\u001b[0;34m\u001b[0m\n\u001b[1;32m      9\u001b[0m \u001b[0mconf\u001b[0m\u001b[0;34m=\u001b[0m\u001b[0mpyspark\u001b[0m\u001b[0;34m.\u001b[0m\u001b[0mSparkConf\u001b[0m\u001b[0;34m(\u001b[0m\u001b[0;34m)\u001b[0m\u001b[0;34m\u001b[0m\u001b[0;34m\u001b[0m\u001b[0m\n\u001b[1;32m     10\u001b[0m \u001b[0mconf\u001b[0m\u001b[0;34m=\u001b[0m\u001b[0mpyspark\u001b[0m\u001b[0;34m.\u001b[0m\u001b[0mSparkConf\u001b[0m\u001b[0;34m(\u001b[0m\u001b[0;34m)\u001b[0m\u001b[0;34m.\u001b[0m\u001b[0msetAppName\u001b[0m\u001b[0;34m(\u001b[0m\u001b[0mAPP_NAME\u001b[0m\u001b[0;34m)\u001b[0m\u001b[0;34m.\u001b[0m\u001b[0mset\u001b[0m\u001b[0;34m(\u001b[0m\u001b[0;34m\"spark.local.dir\"\u001b[0m\u001b[0;34m,\u001b[0m \u001b[0mos\u001b[0m\u001b[0;34m.\u001b[0m\u001b[0mpath\u001b[0m\u001b[0;34m.\u001b[0m\u001b[0mjoin\u001b[0m\u001b[0;34m(\u001b[0m\u001b[0mos\u001b[0m\u001b[0;34m.\u001b[0m\u001b[0mgetcwd\u001b[0m\u001b[0;34m(\u001b[0m\u001b[0;34m)\u001b[0m\u001b[0;34m,\u001b[0m \u001b[0;34m\"tmp\"\u001b[0m\u001b[0;34m)\u001b[0m\u001b[0;34m)\u001b[0m\u001b[0;34m\u001b[0m\u001b[0;34m\u001b[0m\u001b[0m\n\u001b[0;32m---> 11\u001b[0;31m \u001b[0msc\u001b[0m \u001b[0;34m=\u001b[0m \u001b[0mpyspark\u001b[0m\u001b[0;34m.\u001b[0m\u001b[0mSparkContext\u001b[0m\u001b[0;34m(\u001b[0m\u001b[0mmaster\u001b[0m\u001b[0;34m=\u001b[0m\u001b[0mSPARK_MASTER\u001b[0m\u001b[0;34m,\u001b[0m \u001b[0mconf\u001b[0m\u001b[0;34m=\u001b[0m\u001b[0mconf\u001b[0m\u001b[0;34m)\u001b[0m\u001b[0;34m\u001b[0m\u001b[0;34m\u001b[0m\u001b[0m\n\u001b[0m\u001b[1;32m     12\u001b[0m \u001b[0mspark\u001b[0m \u001b[0;34m=\u001b[0m \u001b[0mpyspark\u001b[0m\u001b[0;34m.\u001b[0m\u001b[0msql\u001b[0m\u001b[0;34m.\u001b[0m\u001b[0mSparkSession\u001b[0m\u001b[0;34m(\u001b[0m\u001b[0msc\u001b[0m\u001b[0;34m)\u001b[0m\u001b[0;34m.\u001b[0m\u001b[0mbuilder\u001b[0m\u001b[0;34m.\u001b[0m\u001b[0mappName\u001b[0m\u001b[0;34m(\u001b[0m\u001b[0mAPP_NAME\u001b[0m\u001b[0;34m)\u001b[0m\u001b[0;34m.\u001b[0m\u001b[0mgetOrCreate\u001b[0m\u001b[0;34m(\u001b[0m\u001b[0;34m)\u001b[0m\u001b[0;34m\u001b[0m\u001b[0;34m\u001b[0m\u001b[0m\n\u001b[1;32m     13\u001b[0m \u001b[0;34m\u001b[0m\u001b[0m\n",
      "\u001b[0;32m/naslx/projects/pn69si/mnmda001/students/software/anaconda3/lib/python3.6/site-packages/pyspark/context.py\u001b[0m in \u001b[0;36m__init__\u001b[0;34m(self, master, appName, sparkHome, pyFiles, environment, batchSize, serializer, conf, gateway, jsc, profiler_cls)\u001b[0m\n\u001b[1;32m    131\u001b[0m                     \" note this option will be removed in Spark 3.0\")\n\u001b[1;32m    132\u001b[0m \u001b[0;34m\u001b[0m\u001b[0m\n\u001b[0;32m--> 133\u001b[0;31m         \u001b[0mSparkContext\u001b[0m\u001b[0;34m.\u001b[0m\u001b[0m_ensure_initialized\u001b[0m\u001b[0;34m(\u001b[0m\u001b[0mself\u001b[0m\u001b[0;34m,\u001b[0m \u001b[0mgateway\u001b[0m\u001b[0;34m=\u001b[0m\u001b[0mgateway\u001b[0m\u001b[0;34m,\u001b[0m \u001b[0mconf\u001b[0m\u001b[0;34m=\u001b[0m\u001b[0mconf\u001b[0m\u001b[0;34m)\u001b[0m\u001b[0;34m\u001b[0m\u001b[0;34m\u001b[0m\u001b[0m\n\u001b[0m\u001b[1;32m    134\u001b[0m         \u001b[0;32mtry\u001b[0m\u001b[0;34m:\u001b[0m\u001b[0;34m\u001b[0m\u001b[0;34m\u001b[0m\u001b[0m\n\u001b[1;32m    135\u001b[0m             self._do_init(master, appName, sparkHome, pyFiles, environment, batchSize, serializer,\n",
      "\u001b[0;32m/naslx/projects/pn69si/mnmda001/students/software/anaconda3/lib/python3.6/site-packages/pyspark/context.py\u001b[0m in \u001b[0;36m_ensure_initialized\u001b[0;34m(cls, instance, gateway, conf)\u001b[0m\n\u001b[1;32m    330\u001b[0m                         \u001b[0;34m\" created by %s at %s:%s \"\u001b[0m\u001b[0;34m\u001b[0m\u001b[0;34m\u001b[0m\u001b[0m\n\u001b[1;32m    331\u001b[0m                         % (currentAppName, currentMaster,\n\u001b[0;32m--> 332\u001b[0;31m                             callsite.function, callsite.file, callsite.linenum))\n\u001b[0m\u001b[1;32m    333\u001b[0m                 \u001b[0;32melse\u001b[0m\u001b[0;34m:\u001b[0m\u001b[0;34m\u001b[0m\u001b[0;34m\u001b[0m\u001b[0m\n\u001b[1;32m    334\u001b[0m                     \u001b[0mSparkContext\u001b[0m\u001b[0;34m.\u001b[0m\u001b[0m_active_spark_context\u001b[0m \u001b[0;34m=\u001b[0m \u001b[0minstance\u001b[0m\u001b[0;34m\u001b[0m\u001b[0;34m\u001b[0m\u001b[0m\n",
      "\u001b[0;31mValueError\u001b[0m: Cannot run multiple SparkContexts at once; existing SparkContext(app=PySpark Lecture, master=local[1]) created by __init__ at <ipython-input-3-79f80fc5169f>:11 "
     ]
    }
   ],
   "source": [
    "# Initialize PySpark\n",
    "import os, sys\n",
    "os.environ[\"JAVA_HOME\"]=\"/lrz/sys/compilers/java/jdk1.8.0_112\"\n",
    "APP_NAME = \"PySpark Lecture\"\n",
    "SPARK_MASTER=\"local[1]\"\n",
    "import pyspark\n",
    "import pyspark.sql\n",
    "from pyspark.sql import Row\n",
    "conf=pyspark.SparkConf()\n",
    "conf=pyspark.SparkConf().setAppName(APP_NAME).set(\"spark.local.dir\", os.path.join(os.getcwd(), \"tmp\"))\n",
    "sc = pyspark.SparkContext(master=SPARK_MASTER, conf=conf)\n",
    "spark = pyspark.sql.SparkSession(sc).builder.appName(APP_NAME).getOrCreate()\n",
    "\n",
    "print(\"PySpark initiated...\")"
   ]
  },
  {
   "cell_type": "code",
   "execution_count": null,
   "metadata": {},
   "outputs": [],
   "source": [
    "from pyspark.ml.linalg import Vectors\n",
    "from pyspark.ml.feature import VectorAssembler\n",
    "from pyspark.ml.clustering import KMeans\n",
    "from pyspark.ml.evaluation import ClusteringEvaluator\n",
    "\n",
    "spark_df = spark.createDataFrame(iris_df)\n",
    "\n",
    "assembler = VectorAssembler(\n",
    "    inputCols=[\"sepal length (cm)\", \"sepal width (cm)\", \"petal length (cm)\",\"petal width (cm)\"],\n",
    "    outputCol=\"features\")\n",
    "\n",
    "output = assembler.transform(spark_df)\n",
    "output = output.select(\"features\", \"target\")\n",
    "\n",
    "kmeans = KMeans().setK(3).setSeed(42)\n",
    "model = kmeans.fit(output)"
   ]
  },
  {
   "cell_type": "markdown",
   "metadata": {},
   "source": [
    "* Validate the quality of the model using the sum of the squared error for each point! Use the ClusterEvaluator of Spark MLlib!"
   ]
  },
  {
   "cell_type": "code",
   "execution_count": null,
   "metadata": {},
   "outputs": [],
   "source": [
    "\n",
    "evaluator = ClusteringEvaluator(predictionCol='target',distanceMeasure='squaredEuclidean')\n",
    "a = evaluator.evaluate(output)\n",
    "a\n"
   ]
  },
  {
   "cell_type": "markdown",
   "metadata": {},
   "source": [
    "## 7.3 Manual KMeans Clustering\n",
    "\n",
    "Implement a KMeans Model using Spark MapReduce (Do Not use MLlib version!)!"
   ]
  },
  {
   "cell_type": "code",
   "execution_count": 815,
   "metadata": {},
   "outputs": [
    {
     "name": "stdout",
     "output_type": "stream",
     "text": [
      "T: 2 val: (5.005999999999999, 3.428000000000001, 1.4620000000000002, 0.2459999999999999)\n",
      "T: 1 val: (6.404597701149422, 2.9333333333333336, 5.0873563218390805, 1.7505747126436786)\n",
      "T: 0 val: (5.307692307692309, 2.4615384615384612, 3.6923076923076925, 1.176923076923077)\n",
      "T: 2 val: (5.005999999999999, 3.428000000000001, 1.4620000000000002, 0.2459999999999999)\n",
      "T: 1 val: (6.532876712328765, 2.964383561643836, 5.263013698630138, 1.8452054794520545)\n",
      "T: 0 val: (5.529629629629628, 2.622222222222222, 3.9407407407407407, 1.2185185185185186)\n",
      "T: 2 val: (5.005999999999999, 3.428000000000001, 1.4620000000000002, 0.2459999999999999)\n",
      "T: 1 val: (6.5772727272727245, 2.990909090909091, 5.3484848484848495, 1.895454545454545)\n",
      "T: 0 val: (5.649999999999999, 2.641176470588235, 4.047058823529412, 1.25)\n",
      "T: 2 val: (5.005999999999999, 3.428000000000001, 1.4620000000000002, 0.2459999999999999)\n",
      "T: 1 val: (6.601587301587299, 2.9857142857142853, 5.384126984126984, 1.9158730158730153)\n",
      "T: 0 val: (5.683783783783783, 2.678378378378378, 4.091891891891892, 1.2675675675675677)\n",
      "T: 2 val: (5.005999999999999, 3.428000000000001, 1.4620000000000002, 0.2459999999999999)\n",
      "T: 1 val: (6.632203389830504, 2.9983050847457617, 5.4305084745762695, 1.9372881355932199)\n",
      "T: 0 val: (5.729268292682926, 2.6902439024390246, 4.151219512195122, 1.3)\n",
      "T: 2 val: (5.005999999999999, 3.428000000000001, 1.4620000000000002, 0.2459999999999999)\n",
      "T: 1 val: (6.664814814814812, 3.007407407407406, 5.499999999999997, 1.9685185185185183)\n",
      "T: 0 val: (5.789130434782607, 2.71304347826087, 4.208695652173914, 1.3326086956521739)\n",
      "T: 2 val: (5.005999999999999, 3.428000000000001, 1.4620000000000002, 0.2459999999999999)\n",
      "T: 1 val: (6.701999999999997, 3.015999999999999, 5.555999999999998, 1.992)\n",
      "T: 0 val: (5.821999999999998, 2.7280000000000006, 4.256000000000001, 1.36)\n",
      "T: 2 val: (5.005999999999999, 3.428000000000001, 1.4620000000000002, 0.2459999999999999)\n",
      "T: 1 val: (6.769565217391302, 3.0369565217391297, 5.599999999999998, 2.008695652173913)\n",
      "T: 0 val: (5.829629629629628, 2.7314814814814814, 4.314814814814815, 1.3925925925925926)\n",
      "T: 2 val: (5.005999999999999, 3.428000000000001, 1.4620000000000002, 0.2459999999999999)\n",
      "T: 1 val: (6.802325581395348, 3.0441860465116273, 5.648837209302324, 2.0302325581395344)\n",
      "T: 0 val: (5.8543859649122805, 2.742105263157894, 4.34561403508772, 1.4087719298245613)\n",
      "T: 2 val: (5.005999999999999, 3.428000000000001, 1.4620000000000002, 0.2459999999999999)\n",
      "T: 1 val: (6.8275, 3.07, 5.699999999999999, 2.0624999999999996)\n",
      "T: 0 val: (5.885000000000001, 2.74, 4.376666666666667, 1.4183333333333332)\n",
      "T: 2 val: (5.005999999999999, 3.428000000000001, 1.4620000000000002, 0.2459999999999999)\n",
      "T: 1 val: (6.853846153846153, 3.0769230769230766, 5.715384615384615, 2.053846153846153)\n",
      "T: 0 val: (5.88360655737705, 2.7409836065573776, 4.388524590163936, 1.4344262295081969)\n",
      "T: 2 val: (5.005999999999999, 3.428000000000001, 1.4620000000000002, 0.2459999999999999)\n",
      "T: 1 val: (6.853846153846153, 3.0769230769230766, 5.715384615384615, 2.053846153846153)\n",
      "T: 0 val: (5.88360655737705, 2.7409836065573776, 4.388524590163936, 1.4344262295081969)\n"
     ]
    }
   ],
   "source": [
    "import random\n",
    "from scipy.spatial import distance\n",
    "def x(a,b):\n",
    "    sum = 0\n",
    "    for i in range(0,len(a)-1):\n",
    "        print(i)\n",
    "        #sum = sum + ((b[i]-a[i])**2)\n",
    "    return sum\n",
    "\n",
    "\n",
    "iter = 100\n",
    "cluster = 3\n",
    "seed = 42\n",
    "clusterList = []\n",
    "\n",
    "test = 0\n",
    "clusterList = iris_df.sample(cluster)\n",
    "c1 = tuple(clusterList.iloc[0])[0:-2]\n",
    "c2 = tuple(clusterList.iloc[1])[0:-2]\n",
    "c3 = tuple(clusterList.iloc[2])[0:-2]\n",
    "\n",
    "for i in range(0,iter):\n",
    "\n",
    "\n",
    "    y = (1,2,3,4)\n",
    "\n",
    "    def hack(a):\n",
    "        x0 = 0\n",
    "        x1 = 0\n",
    "        x2 = 0\n",
    "        x3 = 0\n",
    "        l = list(a)\n",
    "        mult = 1/len(l)\n",
    "        for x in l:\n",
    "            x0 += x[0]\n",
    "            x1 += x[1]\n",
    "            x2 += x[2]\n",
    "            x3 += x[3]\n",
    "        return (mult*x0,mult*x1,mult*x2,mult*x3)\n",
    "\n",
    "\n",
    "    all = spark.createDataFrame(iris_df).rdd\n",
    "    a = all.map(lambda x: (x[0:4]))\n",
    "\n",
    "    a = a.map(lambda x: (x,(distance.euclidean(tuple(x), c1),distance.euclidean(tuple(x), c2),distance.euclidean(tuple(x), c3))))\n",
    "    a = a.map(lambda x: (x[1].index(min(x[1])),x[0]))\n",
    "    a.filter(lambda x: x[0] == 0).collect()\n",
    "    test = a.groupByKey(1).map(lambda x : (x[0], hack(x[1])))\n",
    "    test = test.toDF().toPandas()\n",
    "    for i in [1,2,3]:\n",
    "        t  = test[i-1:i]['_1'].values[0]\n",
    "        v  = test[i-1:i]['_2'].values[0]\n",
    "        tp = (v[0],v[1],v[2],v[3])\n",
    "        print(\"T: \"+ str(t) + \" val: \" + str(tp) )\n",
    "        if t == 0:\n",
    "            change1 = distance.euclidean(c1,tp)\n",
    "            c1 = tp\n",
    "        if t == 1:\n",
    "            change2 = distance.euclidean(c2,tp)\n",
    "            c2 = tp\n",
    "        if t == 2:\n",
    "            change3 = distance.euclidean(c3,tp)\n",
    "            c3 = tp\n",
    "    #print(\"dis1: \" + str(change1) + \" dis2: \" + str(change2) + \"dis3: \"+str(change3) +\"\\n\")\n",
    "    if change1 == change2 == change3:\n",
    "        break\n",
    "\n",
    "            \n",
    "\n",
    "#x = test[0:1]['_2'].values[0]\n",
    "#x?\n"
   ]
  },
  {
   "cell_type": "code",
   "execution_count": 816,
   "metadata": {},
   "outputs": [
    {
     "data": {
      "text/plain": [
       "[<matplotlib.lines.Line2D at 0x2abb7e97c160>]"
      ]
     },
     "execution_count": 816,
     "metadata": {},
     "output_type": "execute_result"
    },
    {
     "data": {
      "image/png": "[encoded data removed]",
      "text/plain": [
       "<Figure size 800x800 with 1 Axes>"
      ]
     },
     "metadata": {},
     "output_type": "display_data"
    }
   ],
   "source": [
    "#p.plot(2,2,'ro') \n",
    "from matplotlib.pyplot import figure\n",
    "f = figure(num=None, figsize=(10, 10), dpi=80, facecolor='w', edgecolor='k')\n",
    "\n",
    "tmp_df =  iris_df[iris_df['target']==0]\n",
    "plt.scatter(tmp_df[[\"sepal length (cm)\"]],y = tmp_df[[\"sepal width (cm)\"]],figure=f,c=\"blue\")\n",
    "\n",
    "tmp_df =  iris_df[iris_df['target']==1]\n",
    "plt.scatter(tmp_df[[\"sepal length (cm)\"]],y = tmp_df[[\"sepal width (cm)\"]],figure=f,c=\"Red\")\n",
    "\n",
    "tmp_df =  iris_df[iris_df['target']==2]\n",
    "plt.scatter(tmp_df[[\"sepal length (cm)\"]],y = tmp_df[[\"sepal width (cm)\"]],figure=f,c=\"Green\")\n",
    "\n",
    "plt.plot(c1[0], c1[1], 'go',marker='X',markersize=10,c=\"red\")\n",
    "plt.plot(c2[0], c2[1], 'go',marker='X',markersize=10,c=\"blue\")\n",
    "plt.plot(c3[0], c3[1], 'go',marker='X',markersize=10,c=\"green\")\n",
    "\n"
   ]
  },
  {
   "cell_type": "code",
   "execution_count": null,
   "metadata": {},
   "outputs": [],
   "source": []
  },
  {
   "cell_type": "code",
   "execution_count": null,
   "metadata": {},
   "outputs": [],
   "source": []
  },
  {
   "cell_type": "code",
   "execution_count": null,
   "metadata": {},
   "outputs": [],
   "source": []
  },
  {
   "cell_type": "code",
   "execution_count": null,
   "metadata": {},
   "outputs": [],
   "source": []
  },
  {
   "cell_type": "code",
   "execution_count": null,
   "metadata": {},
   "outputs": [],
   "source": []
  }
 ],
 "metadata": {
  "kernelspec": {
   "display_name": "Python 3",
   "language": "python",
   "name": "python3"
  },
  "language_info": {
   "codemirror_mode": {
    "name": "ipython",
    "version": 3
   },
   "file_extension": ".py",
   "mimetype": "text/x-python",
   "name": "python",
   "nbconvert_exporter": "python",
   "pygments_lexer": "ipython3",
   "version": "3.6.8"
  }
 },
 "nbformat": 4,
 "nbformat_minor": 2
}

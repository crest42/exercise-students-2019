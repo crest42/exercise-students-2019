{
 "cells": [
  {
   "cell_type": "markdown",
   "metadata": {},
   "source": [
    "# 09. Spark Streaming\n",
    "\n",
    "9.1 Extend the Spark Dataframe Example for counting HTTP response code in the NASA log files to Spark Structured Streaming. Use the [DataStreamReader] (https://spark.apache.org/docs/latest/api/python/pyspark.sql.html#pyspark.sql.streaming.DataStreamReader) API and the output mode \"update\"!\n",
    "\n",
    "* https://spark.apache.org/docs/latest/structured-streaming-programming-guide.html\n",
    "* https://spark.apache.org/docs/latest/api/python/pyspark.sql.html#module-pyspark.sql.streaming\n",
    "* https://spark.apache.org/docs/latest/api/python/pyspark.sql.html#pyspark.sql.streaming.DataStreamReader    \n",
    "* `spark_streaming.py`\n",
    "    \n",
    "    \n",
    "9.1 Add an additional copy of the NASA file to your Streaming data source directory! What do you observer?\n",
    "\n",
    "9.2 Create a subset of the data (10 rows) and slightly modify it! Add it to the source directory!"
   ]
  },
  {
   "cell_type": "code",
   "execution_count": null,
   "metadata": {},
   "outputs": [
    {
     "name": "stdout",
     "output_type": "stream",
     "text": [
      "PySpark initiated...\n",
      "True\n"
     ]
    }
   ],
   "source": [
    "# Initialize PySpark\n",
    "import os, sys\n",
    "os.environ[\"JAVA_HOME\"]=\"/lrz/sys/compilers/java/jdk1.8.0_112\"\n",
    "APP_NAME = \"PySpark Lecture\"\n",
    "SPARK_MASTER=\"local[16]\"\n",
    "import pyspark\n",
    "import pyspark.sql\n",
    "from pyspark.sql import Row\n",
    "conf=pyspark.SparkConf()\n",
    "conf=pyspark.SparkConf().setAppName(APP_NAME).set(\"spark.local.dir\", os.path.join(os.getcwd(), \"tmp\")).set(\"spark.driver.memory\", \"12g\")\n",
    "\n",
    "\n",
    "\n",
    "sc = pyspark.SparkContext(master=SPARK_MASTER, conf=conf)\n",
    "spark = pyspark.sql.SparkSession(sc).builder.appName(APP_NAME).getOrCreate()\n",
    "\n",
    "print(\"PySpark initiated...\")\n",
    "#in_dir = \"/naslx/projects/pn69si/mnmda001/students/mnmda001/exercise-students-2019/09_Streaming/in/\"\n",
    "in_dir = \"/naslx/projects/pn69si/mnmda001/students/data/nasa/\"\n",
    "in_dir\n",
    "\n",
    "\n",
    "import time\n",
    "import pyspark\n",
    "import pyspark.sql\n",
    "from pyspark.sql import Row, types\n",
    "from pyspark.sql.types import StructType, StructField, StringType\n",
    "#5.2 Create a Spark-SQL table with fields for IP/Host and Response Code from the NASA Log file! \n",
    "#199.120.110.21 - - [01/Jul/1995:00:00:09 -0400] \"GET /shuttle/missions/sts-73/mission-sts-73.html HTTP/1.0\" 200 4085\n",
    "\n",
    "s = StructType([StructField(\"ip\", StringType(), True),\n",
    "                StructField(\"m1\", StringType(), True),\n",
    "                StructField(\"m2\", StringType(), True),\n",
    "                StructField(\"date\", StringType(), True),\n",
    "                StructField(\"tz\", StringType(), True),\n",
    "                StructField(\"method\", StringType(), True),\n",
    "                StructField(\"url\", StringType(), True),\n",
    "                StructField(\"code\", StringType(), True),\n",
    "                StructField(\"size\", StringType(), True),\n",
    "               ])\n",
    "\n",
    "csv_sdf = spark.readStream.csv(in_dir, schema = s,sep = \" \")\n",
    "print(csv_sdf.isStreaming)\n",
    "#a = csv_sdf.writeStream.outputMode(\"update\").format('console').start()\n",
    "csv_sdf.schema == s\n",
    "stream = csv_sdf.writeStream.outputMode(\"update\").format('memory').queryName('this_query').trigger(processingTime='2 seconds').start()\n",
    "r = stream.awaitTermination()\n",
    "print(\"done\")"
   ]
  },
  {
   "cell_type": "code",
   "execution_count": null,
   "metadata": {},
   "outputs": [],
   "source": [
    "spark.sql(\"select * from this_query limit 10\").show()"
   ]
  },
  {
   "cell_type": "code",
   "execution_count": null,
   "metadata": {},
   "outputs": [],
   "source": []
  },
  {
   "cell_type": "code",
   "execution_count": null,
   "metadata": {},
   "outputs": [],
   "source": [
    "out"
   ]
  },
  {
   "cell_type": "code",
   "execution_count": null,
   "metadata": {},
   "outputs": [],
   "source": [
    "!ls "
   ]
  }
 ],
 "metadata": {
  "kernelspec": {
   "display_name": "Python 3",
   "language": "python",
   "name": "python3"
  },
  "language_info": {
   "codemirror_mode": {
    "name": "ipython",
    "version": 3
   },
   "file_extension": ".py",
   "mimetype": "text/x-python",
   "name": "python",
   "nbconvert_exporter": "python",
   "pygments_lexer": "ipython3",
   "version": "3.6.8"
  }
 },
 "nbformat": 4,
 "nbformat_minor": 2
}

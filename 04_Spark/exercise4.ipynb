{
 "cells": [
  {
   "cell_type": "code",
   "execution_count": 4,
   "metadata": {},
   "outputs": [
    {
     "name": "stdout",
     "output_type": "stream",
     "text": [
      "PySpark initiated...\n"
     ]
    }
   ],
   "source": [
    "# Initialize PySpark\n",
    "import os, sys\n",
    "os.environ[\"JAVA_HOME\"]=\"/lrz/sys/compilers/java/jdk1.8.0_112\"\n",
    "APP_NAME = \"PySpark Lecture\"\n",
    "SPARK_MASTER=\"local[1]\"\n",
    "import pyspark\n",
    "import pyspark.sql\n",
    "from pyspark.sql import Row\n",
    "conf=pyspark.SparkConf()\n",
    "conf=pyspark.SparkConf().setAppName(APP_NAME).set(\"spark.local.dir\", os.path.join(os.getcwd(), \"tmp\"))\n",
    "sc = pyspark.SparkContext(master=SPARK_MASTER, conf=conf)\n",
    "spark = pyspark.sql.SparkSession(sc).builder.appName(APP_NAME).getOrCreate()\n",
    "\n",
    "print(\"PySpark initiated...\")"
   ]
  },
  {
   "cell_type": "code",
   "execution_count": 28,
   "metadata": {},
   "outputs": [
    {
     "data": {
      "text/plain": [
       "[['Russell Jurney', 'Relato', 'CEO'],\n",
       " ['Florian Liebert', 'Mesosphere', 'CEO'],\n",
       " ['Don Brown', 'Rocana', 'CIO'],\n",
       " ['Steve Jobs', 'Apple', 'CEO'],\n",
       " ['Donald Trump', 'The Trump Organization', 'CEO'],\n",
       " ['Russell Jurney', 'Data Syndrome', 'Principal Consultant']]"
      ]
     },
     "execution_count": 28,
     "metadata": {},
     "output_type": "execute_result"
    }
   ],
   "source": [
    "# Load the text file using the SparkContext\n",
    "csv_lines = sc.textFile(\"../data/example.csv\")\n",
    "\n",
    "# Map the data to split the lines into a list\n",
    "data = csv_lines.map(lambda line: line.split(\",\"))\n",
    "\n",
    "# Collect the dataset into local RAM\n",
    "data.collect()"
   ]
  },
  {
   "cell_type": "code",
   "execution_count": 62,
   "metadata": {},
   "outputs": [
    {
     "data": {
      "text/plain": [
       "{'name': 'Russell Jurney', 'company': 'Relato', 'title': 'CEO'}"
      ]
     },
     "execution_count": 62,
     "metadata": {},
     "output_type": "execute_result"
    }
   ],
   "source": [
    "# Turn the CSV lines into objects\n",
    "def csv_to_record(line):\n",
    "    parts = line.split(\",\")\n",
    "    record = {\n",
    "      \"name\": parts[0],\n",
    "      \"company\": parts[1],\n",
    "      \"title\": parts[2]\n",
    "    }\n",
    "    return record\n",
    "\n",
    "# Apply the function to every record\n",
    "records = csv_lines.map(csv_to_record)\n",
    "\n",
    "# Inspect the first item in the dataset\n",
    "records.first()"
   ]
  },
  {
   "cell_type": "code",
   "execution_count": 63,
   "metadata": {},
   "outputs": [
    {
     "data": {
      "text/plain": [
       "[{'name': 'Russell Jurney', 'job_count': 2},\n",
       " {'name': 'Florian Liebert', 'job_count': 1},\n",
       " {'name': 'Don Brown', 'job_count': 1},\n",
       " {'name': 'Steve Jobs', 'job_count': 1},\n",
       " {'name': 'Donald Trump', 'job_count': 1}]"
      ]
     },
     "execution_count": 63,
     "metadata": {},
     "output_type": "execute_result"
    }
   ],
   "source": [
    "# Group the records by the name of the person\n",
    "grouped_records = records.groupBy(lambda x: x[\"name\"])\n",
    "\n",
    "# Show the first group\n",
    "grouped_records.first()\n",
    "\n",
    "# Count the groups\n",
    "job_counts = grouped_records.map(\n",
    "  lambda x: {\n",
    "    \"name\": x[0],\n",
    "    \"job_count\": len(x[1])\n",
    "  }\n",
    ")\n",
    "\n",
    "job_counts.first()\n",
    "\n",
    "job_counts.collect()"
   ]
  },
  {
   "cell_type": "code",
   "execution_count": 64,
   "metadata": {},
   "outputs": [
    {
     "name": "stdout",
     "output_type": "stream",
     "text": [
      "[['Russell Jurney', 'Relato', 'CEO'], ['Florian Liebert', 'Mesosphere', 'CEO'], ['Don Brown', 'Rocana', 'CIO'], ['Steve Jobs', 'Apple', 'CEO'], ['Donald Trump', 'The Trump Organization', 'CEO'], ['Russell Jurney', 'Data Syndrome', 'Principal Consultant']]\n"
     ]
    },
    {
     "data": {
      "text/plain": [
       "['Russell Jurney',\n",
       " 'Relato',\n",
       " 'CEO',\n",
       " 'Florian Liebert',\n",
       " 'Mesosphere',\n",
       " 'CEO',\n",
       " 'Don Brown',\n",
       " 'Rocana',\n",
       " 'CIO',\n",
       " 'Steve Jobs',\n",
       " 'Apple',\n",
       " 'CEO',\n",
       " 'Donald Trump',\n",
       " 'The Trump Organization',\n",
       " 'CEO',\n",
       " 'Russell Jurney',\n",
       " 'Data Syndrome',\n",
       " 'Principal Consultant']"
      ]
     },
     "execution_count": 64,
     "metadata": {},
     "output_type": "execute_result"
    }
   ],
   "source": [
    "# Compute a relation of words by line\n",
    "words_by_line = csv_lines\\\n",
    "  .map(lambda line: line.split(\",\"))\n",
    "\n",
    "print(words_by_line.collect())\n",
    "\n",
    "# Compute a relation of words\n",
    "flattened_words = csv_lines\\\n",
    "  .map(lambda line: line.split(\",\"))\\\n",
    "  .flatMap(lambda x: x)\n",
    "\n",
    "flattened_words.collect()"
   ]
  },
  {
   "cell_type": "code",
   "execution_count": 108,
   "metadata": {},
   "outputs": [
    {
     "name": "stdout",
     "output_type": "stream",
     "text": [
      "(word,count): [('Russell Jurney', 2), ('Relato', 1), ('CEO', 4), ('Florian Liebert', 1), ('Mesosphere', 1), ('Don Brown', 1), ('Rocana', 1), ('CIO', 1), ('Steve Jobs', 1), ('Apple', 1), ('Donald Trump', 1), ('The Trump Organization', 1), ('Data Syndrome', 1), ('Principal Consultant', 1)]\n",
      "uniq wc: 14\n"
     ]
    }
   ],
   "source": [
    "# Compute a relation of words by line\n",
    "words_by_line = csv_lines\\\n",
    "  .map(lambda line: line.split(\",\"))\n",
    "\n",
    "# Compute a relation of words\n",
    "flattened_words = csv_lines\\\n",
    "  .map(lambda line: line.split(\",\"))\\\n",
    "  .flatMap(lambda x: x)\n",
    "\n",
    "count = flattened_words.map(lambda x: (x,1))\n",
    "count = count.reduceByKey(lambda x, y: x+y)\n",
    "uniq = count.map(lambda x: (\"word\",1))\n",
    "uniq = uniq.reduceByKey(lambda x, y: x+y)\n",
    "#count = count.map(lambda x: x)\n",
    "\n",
    "\n",
    "print(\"(word,count): \" +str(count.collect()))\n",
    "\n",
    "print(\"uniq wc: \" + str(uniq.first()[1]))\n"
   ]
  },
  {
   "cell_type": "code",
   "execution_count": 36,
   "metadata": {},
   "outputs": [
    {
     "data": {
      "text/plain": [
       "[('304', 132627),\n",
       " ('404', 10845),\n",
       " ('200', 1701534),\n",
       " ('302', 46573),\n",
       " ('501', 14),\n",
       " ('400', 5),\n",
       " ('alyssa.p', 1),\n",
       " ('500', 62),\n",
       " ('403', 54)]"
      ]
     },
     "execution_count": 36,
     "metadata": {},
     "output_type": "execute_result"
    }
   ],
   "source": [
    "nasa = sc.textFile(\"../data/nasa/NASA_access_log_Jul95\")\n",
    "\n",
    "# Compute a relation of words\n",
    "flattened_words = nasa\\\n",
    "  .map(lambda line: line.split(\" \"))\\\n",
    "  .map(lambda x: (x[(len(x)-2)],1))\n",
    "\n",
    "flattened_words = flattened_words.reduceByKey(lambda x, y: x+y)\n",
    "flattened_words.collect()"
   ]
  },
  {
   "cell_type": "code",
   "execution_count": null,
   "metadata": {},
   "outputs": [],
   "source": []
  },
  {
   "cell_type": "code",
   "execution_count": null,
   "metadata": {},
   "outputs": [],
   "source": []
  }
 ],
 "metadata": {
  "kernelspec": {
   "display_name": "Python 3",
   "language": "python",
   "name": "python3"
  },
  "language_info": {
   "codemirror_mode": {
    "name": "ipython",
    "version": 3
   },
   "file_extension": ".py",
   "mimetype": "text/x-python",
   "name": "python",
   "nbconvert_exporter": "python",
   "pygments_lexer": "ipython3",
   "version": "3.6.8"
  }
 },
 "nbformat": 4,
 "nbformat_minor": 2
}

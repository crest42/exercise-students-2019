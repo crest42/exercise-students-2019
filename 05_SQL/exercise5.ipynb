{
 "cells": [
  {
   "cell_type": "code",
   "execution_count": 1,
   "metadata": {},
   "outputs": [
    {
     "data": {
      "text/plain": [
       "'/naslx/projects/pn69si/mnmda001/students/data/nasa/NASA_access_log_Jul95'"
      ]
     },
     "execution_count": 1,
     "metadata": {},
     "output_type": "execute_result"
    }
   ],
   "source": [
    "import os, sys\n",
    "import pyspark\n",
    "import pyspark.sql\n",
    "from pyspark.sql import Row\n",
    "\n",
    "sc = False\n",
    "spark = False\n",
    "def stop_spark():\n",
    "    global sc\n",
    "    sc.stop()\n",
    "    print(\"PySpark stopped...\")\n",
    "\n",
    "def start_spark(cores):\n",
    "    global sc\n",
    "    global spark\n",
    "    os.environ[\"JAVA_HOME\"]=\"/lrz/sys/compilers/java/jdk1.8.0_112\"\n",
    "    APP_NAME = \"PySpark Lecture\"\n",
    "    SPARK_MASTER=\"local[\"+ cores + \"]\"\n",
    "    conf=pyspark.SparkConf()\n",
    "    conf=pyspark.SparkConf().setAppName(APP_NAME).set(\"spark.local.dir\", os.path.join(os.getcwd(), \"tmp\"))\n",
    "    sc    = pyspark.SparkContext(master=SPARK_MASTER, conf=conf)\n",
    "    spark = pyspark.sql.SparkSession(sc).builder.appName(APP_NAME).getOrCreate()\n",
    "    print(\"PySpark initiated...\")\n",
    "    \n",
    "file = \"/naslx/projects/pn69si/mnmda001/students/data/nasa/NASA_access_log_Jul95\"\n",
    "file"
   ]
  },
  {
   "cell_type": "code",
   "execution_count": 2,
   "metadata": {},
   "outputs": [
    {
     "name": "stdout",
     "output_type": "stream",
     "text": [
      "PySpark initiated...\n"
     ]
    }
   ],
   "source": [
    "start_spark(\"1\")"
   ]
  },
  {
   "cell_type": "code",
   "execution_count": 3,
   "metadata": {},
   "outputs": [
    {
     "name": "stdout",
     "output_type": "stream",
     "text": [
      "Cache op took: 0.19298696517944336 Seconds\n",
      "+----+-------+\n",
      "|resp|  Count|\n",
      "+----+-------+\n",
      "|  -1|      6|\n",
      "| 200|1701534|\n",
      "| 302|  46573|\n",
      "| 501|     14|\n",
      "| 404|  10845|\n",
      "| 403|     54|\n",
      "| 500|     62|\n",
      "| 304| 132627|\n",
      "+----+-------+\n",
      "\n",
      "Query took: 33.28501796722412 Seconds\n",
      "+----+-------+\n",
      "|resp|  Count|\n",
      "+----+-------+\n",
      "|  -1|      6|\n",
      "| 200|1701534|\n",
      "| 302|  46573|\n",
      "| 501|     14|\n",
      "| 404|  10845|\n",
      "| 403|     54|\n",
      "| 500|     62|\n",
      "| 304| 132627|\n",
      "+----+-------+\n",
      "\n",
      "Cached Query took: 1.7881879806518555 Seconds\n"
     ]
    },
    {
     "data": {
      "text/plain": [
       "DataFrame[ip: string, resp: string]"
      ]
     },
     "execution_count": 3,
     "metadata": {},
     "output_type": "execute_result"
    }
   ],
   "source": [
    "import time\n",
    "\n",
    "#5.2 Create a Spark-SQL table with fields for IP/Host and Response Code from the NASA Log file! \n",
    "def nasa_to_row(line):\n",
    "    parts = line.split(\" \")\n",
    "    r = -1\n",
    "    if len(parts) < 9:\n",
    "        r = -1\n",
    "    else:\n",
    "        r = parts[len(parts)-2]\n",
    "    row = Row(\n",
    "      ip=parts[0],\n",
    "      resp=r\n",
    "    )\n",
    "    return row\n",
    "# Load the text file using the SparkContext\n",
    "nasa = sc.textFile(file)\n",
    "rows = nasa.map(nasa_to_row)\n",
    "df = rows.toDF()\n",
    "\n",
    "#5.4 Cachen Sie den Dataframe und führen Sie dieselbe Query nochmals aus! Messen Sie die Laufzeit für das Cachen und für die Ausführungszeit der Query!\n",
    "start = time.time()\n",
    "df.cache()\n",
    "exe = time.time()-start\n",
    "print (\"Cache op took: \" + str(exe) + \" Seconds\")\n",
    "\n",
    "start = time.time()\n",
    "df.registerTempTable(\"nasa\")\n",
    "\n",
    "#5.3 Run an SQL query that outputs the number of occurrences of each HTTP response code!\n",
    "# Generate a new DataFrame with SQL using the SparkSession\n",
    "nasa_count = spark.sql(\"\"\"\n",
    "SELECT\n",
    "  resp,\n",
    "  count(*) as Count\n",
    "  FROM nasa\n",
    "  where resp is not null\n",
    "  group by resp\n",
    "\"\"\")\n",
    "nasa_count.show()\n",
    "exe = time.time()-start\n",
    "print (\"Query took: \" + str(exe) + \" Seconds\")\n",
    "\n",
    "start = time.time()\n",
    "nasa_count = spark.sql(\"\"\"\n",
    "SELECT\n",
    "  resp,\n",
    "  count(*) as Count\n",
    "  FROM nasa\n",
    "  where resp is not null\n",
    "  group by resp\n",
    "\"\"\")\n",
    "nasa_count.show()\n",
    "exe = time.time()-start\n",
    "print (\"Cached Query took: \" + str(exe) + \" Seconds\")\n",
    "\n",
    "# Go back to an RDD\n",
    "#job_counts.rdd.collect()\n",
    "\n",
    "df"
   ]
  },
  {
   "cell_type": "markdown",
   "metadata": {},
   "source": [
    "5.5. Implement the same Query using the Dataframe API!"
   ]
  },
  {
   "cell_type": "code",
   "execution_count": 5,
   "metadata": {},
   "outputs": [
    {
     "name": "stdout",
     "output_type": "stream",
     "text": [
      "+----+-----------+\n",
      "|resp|count(resp)|\n",
      "+----+-----------+\n",
      "|  -1|          6|\n",
      "| 200|    1701534|\n",
      "| 302|      46573|\n",
      "| 501|         14|\n",
      "| 404|      10845|\n",
      "| 403|         54|\n",
      "| 500|         62|\n",
      "| 304|     132627|\n",
      "+----+-----------+\n",
      "\n"
     ]
    }
   ],
   "source": [
    "# Load the text file using the SparkContext\n",
    "nasa = sc.textFile(file)\n",
    "rows = nasa.map(nasa_to_row)\n",
    "#rows.first()\n",
    "df = rows.toDF()\n",
    "\n",
    "# Go back to an RDD\n",
    "#job_counts.rdd.collect()\n",
    "\n",
    "test = df.groupBy('resp').agg({'resp': 'count'})\n",
    "test.show()"
   ]
  },
  {
   "cell_type": "code",
   "execution_count": 9,
   "metadata": {},
   "outputs": [
    {
     "name": "stdout",
     "output_type": "stream",
     "text": [
      "PySpark stopped...\n",
      "PySpark initiated...\n",
      "PySpark stopped...\n",
      "PySpark initiated...\n"
     ]
    },
    {
     "data": {
      "text/plain": [
       "{'8': [5.299163818359375, 0.32302236557006836],\n",
       " '16': [5.501942157745361, 0.3031125068664551]}"
      ]
     },
     "execution_count": 9,
     "metadata": {},
     "output_type": "execute_result"
    },
    {
     "data": {
      "image/png": "[encoded data removed]",
      "text/plain": [
       "<Figure size 432x288 with 1 Axes>"
      ]
     },
     "metadata": {
      "needs_background": "light"
     },
     "output_type": "display_data"
    }
   ],
   "source": [
    "#5.6 Führen Sie diesselbe Query mit/ohne Cache und 8, 16 Cores aus! Dokumentieren und erklären Sie das Ergebnis!\n",
    "import pandas as pd\n",
    "\n",
    "\n",
    "# Load the text file using the SparkContext\n",
    "t = [0,0,0,0]\n",
    "\n",
    "stop_spark()\n",
    "start_spark(\"8\")\n",
    "nasa8 = sc.textFile(file)\n",
    "rows8 = nasa8.map(nasa_to_row)\n",
    "df8 = rows8.toDF()\n",
    "df8.cache()\n",
    "\n",
    "start = time.time()\n",
    "res = df8.groupBy('resp').agg({'resp': 'count'}).collect()\n",
    "t[0] = time.time()-start\n",
    "\n",
    "start = time.time()\n",
    "res = df8.groupBy('resp').agg({'resp': 'count'}).collect()\n",
    "t[2] = time.time()-start\n",
    "\n",
    "stop_spark()\n",
    "start_spark(\"16\")\n",
    "\n",
    "nasa16 = sc.textFile(file)\n",
    "rows16 = nasa16.map(nasa_to_row)\n",
    "df16 = rows16.toDF()\n",
    "df16.cache()\n",
    "\n",
    "\n",
    "start = time.time()\n",
    "res = df16.groupBy('resp').agg({'resp': 'count'}).collect()\n",
    "t[1] = time.time()-start\n",
    "\n",
    "start = time.time()\n",
    "res = df16.groupBy('resp').agg({'resp': 'count'}).collect()\n",
    "t[3] = time.time()-start\n",
    "\n",
    "t\n",
    "layout = {'8': [float(t[0]),float(t[2])],\n",
    "         '16': [float(t[1]),float(t[3])]}\n",
    "df = pd.DataFrame(layout,index = ['nocache', 'cache'])\n",
    "df\n",
    "#test = df.groupBy('resp').agg({'resp': 'count'})\n",
    "df.plot.bar()\n",
    "#res = pd.DataFrame({'Runtime in Sec': t},index = ['Generate', 'Sort','Validate'])\n",
    "layout"
   ]
  },
  {
   "cell_type": "markdown",
   "metadata": {},
   "source": [
    "Anscheinend hat die Anzahl der Cores keinen Einfluss auf die schnelle der Verarbeitung. Serieller Falschenhals ist das laden in den RAM.\n",
    "Vermutlich Amdahl Law (Gedeckt durch experiment weiter unten) Bei 8 Cores scheint eine Sättigung einzutreten und der Lineare Anteil zu dominieren"
   ]
  },
  {
   "cell_type": "code",
   "execution_count": 13,
   "metadata": {},
   "outputs": [
    {
     "name": "stdout",
     "output_type": "stream",
     "text": [
      "PySpark stopped...\n",
      "PySpark initiated...\n",
      "PySpark stopped...\n",
      "PySpark initiated...\n"
     ]
    },
    {
     "data": {
      "text/plain": [
       "[Row(resp='-1', count(resp)=6),\n",
       " Row(resp='200', count(resp)=1701534),\n",
       " Row(resp='302', count(resp)=46573),\n",
       " Row(resp='501', count(resp)=14),\n",
       " Row(resp='404', count(resp)=10845),\n",
       " Row(resp='403', count(resp)=54),\n",
       " Row(resp='500', count(resp)=62),\n",
       " Row(resp='304', count(resp)=132627)]"
      ]
     },
     "execution_count": 13,
     "metadata": {},
     "output_type": "execute_result"
    },
    {
     "data": {
      "image/png": "[encoded data removed]",
      "text/plain": [
       "<Figure size 432x288 with 1 Axes>"
      ]
     },
     "metadata": {
      "needs_background": "light"
     },
     "output_type": "display_data"
    }
   ],
   "source": [
    "#5.7 Performance Analysis:\n",
    "#* Create RDDs with 2x, 4x, 8x and 16x of the size of the NASA log dataset! Persist the dataset in the Spark Cache! Use an appropriate number of cores (e.g. 8 or 16)!\n",
    "#* Measure and plot the response times for all datasets using a constant number of cores!\n",
    "#* Plot the results!\n",
    "#* Explain the results!\n",
    "def eval_runtime(rows):\n",
    "    df = rows.toDF()\n",
    "    df.cache().count()\n",
    "    start = time.time()\n",
    "    test = df.groupBy('resp').agg({'resp': 'count'})\n",
    "    test.collect()\n",
    "    return time.time()-start\n",
    "\n",
    "stop_spark()\n",
    "start_spark(\"8\")\n",
    "nasa8 = sc.textFile(file)\n",
    "rows = nasa8.map(nasa_to_row)\n",
    "rows8_2 = rows.union(rows)\n",
    "rows8_4 = rows8_2.union(rows8_2)\n",
    "rows8_8 = rows8_4.union(rows8_4)\n",
    "rows8_16 = rows8_8.union(rows8_8)\n",
    "\n",
    "a = eval_runtime(rows8_2)\n",
    "b = eval_runtime(rows8_4)\n",
    "c = eval_runtime(rows8_8)\n",
    "d = eval_runtime(rows8_16)\n",
    "\n",
    "layout = {'8': [float(a),float(b),float(c),float(d)]}\n",
    "\n",
    "stop_spark()\n",
    "start_spark(\"16\")\n",
    "nasa8 = sc.textFile(file)\n",
    "rows = nasa8.map(nasa_to_row)\n",
    "rows8_2 = rows.union(rows)\n",
    "rows8_4 = rows8_2.union(rows8_2)\n",
    "rows8_8 = rows8_4.union(rows8_4)\n",
    "rows8_16 = rows8_8.union(rows8_8)\n",
    "\n",
    "a = eval_runtime(rows8_2)\n",
    "b = eval_runtime(rows8_4)\n",
    "c = eval_runtime(rows8_8)\n",
    "d = eval_runtime(rows8_16)\n",
    "\n",
    "layout['16'] = [float(a),float(b),float(c),float(d)]\n",
    "\n",
    "df = pd.DataFrame(layout,index = ['2x', '4x','8x','16x'])\n",
    "df\n",
    "#test = df.groupBy('resp').agg({'resp': 'count'})\n",
    "df.plot.bar()\n",
    "res"
   ]
  },
  {
   "cell_type": "markdown",
   "metadata": {},
   "source": [
    "5.8 Strong Scaling\n",
    "* Measure the runtime for the query for 8, 16, 32, 64, 128, 256 cores for 1x and 16x datasets! Datasets cached in Memory!\n",
    "* Compute the speedup and efficiency!\n",
    "* Plot the responses!\n",
    "* Explain the results! -> 1 bis 8 Cores Log. Verbesserung in der Laufzeit, danach keine Verbesserung mehr (Amdahls Law siehe oben)"
   ]
  },
  {
   "cell_type": "code",
   "execution_count": 14,
   "metadata": {},
   "outputs": [
    {
     "name": "stdout",
     "output_type": "stream",
     "text": [
      "PySpark stopped...\n",
      "PySpark initiated...\n",
      "PySpark stopped...\n",
      "PySpark initiated...\n",
      "PySpark stopped...\n",
      "PySpark initiated...\n",
      "PySpark stopped...\n",
      "PySpark initiated...\n",
      "PySpark stopped...\n",
      "PySpark initiated...\n"
     ]
    },
    {
     "data": {
      "text/plain": [
       "[Row(resp='-1', count(resp)=6),\n",
       " Row(resp='200', count(resp)=1701534),\n",
       " Row(resp='302', count(resp)=46573),\n",
       " Row(resp='501', count(resp)=14),\n",
       " Row(resp='404', count(resp)=10845),\n",
       " Row(resp='403', count(resp)=54),\n",
       " Row(resp='500', count(resp)=62),\n",
       " Row(resp='304', count(resp)=132627)]"
      ]
     },
     "execution_count": 14,
     "metadata": {},
     "output_type": "execute_result"
    },
    {
     "data": {
      "image/png": "[encoded data removed]",
      "text/plain": [
       "<Figure size 432x288 with 1 Axes>"
      ]
     },
     "metadata": {
      "needs_background": "light"
     },
     "output_type": "display_data"
    }
   ],
   "source": [
    "def eval_runtime(rows):\n",
    "    df = rows.toDF()\n",
    "    df.cache().count()\n",
    "    start = time.time()\n",
    "    test = df.groupBy('resp').agg({'resp': 'count'})\n",
    "    test.collect()\n",
    "    return time.time()-start\n",
    "\n",
    "layout = {}\n",
    "\n",
    "stop_spark()\n",
    "start_spark(\"1\")\n",
    "nasa8 = sc.textFile(file)\n",
    "rows = nasa8.map(nasa_to_row)\n",
    "rows8_2 = rows.union(rows)\n",
    "rows8_4 = rows8_2.union(rows8_2)\n",
    "rows8_8 = rows8_4.union(rows8_4)\n",
    "rows8_16 = rows8_8.union(rows8_8)\n",
    "\n",
    "a = eval_runtime(rows)\n",
    "b = eval_runtime(rows8_16)\n",
    "\n",
    "layout['1'] = [float(a),float(b)]\n",
    "\n",
    "stop_spark()\n",
    "start_spark(\"2\")\n",
    "nasa8 = sc.textFile(file)\n",
    "rows = nasa8.map(nasa_to_row)\n",
    "rows8_2 = rows.union(rows)\n",
    "rows8_4 = rows8_2.union(rows8_2)\n",
    "rows8_8 = rows8_4.union(rows8_4)\n",
    "rows8_16 = rows8_8.union(rows8_8)\n",
    "\n",
    "a = eval_runtime(rows)\n",
    "b = eval_runtime(rows8_16)\n",
    "\n",
    "layout['2'] = [float(a),float(b)]\n",
    "\n",
    "stop_spark()\n",
    "start_spark(\"4\")\n",
    "nasa8 = sc.textFile(file)\n",
    "rows = nasa8.map(nasa_to_row)\n",
    "rows8_2 = rows.union(rows)\n",
    "rows8_4 = rows8_2.union(rows8_2)\n",
    "rows8_8 = rows8_4.union(rows8_4)\n",
    "rows8_16 = rows8_8.union(rows8_8)\n",
    "\n",
    "a = eval_runtime(rows)\n",
    "b = eval_runtime(rows8_16)\n",
    "\n",
    "layout['4'] = [float(a),float(b)]\n",
    "\n",
    "stop_spark()\n",
    "start_spark(\"8\")\n",
    "nasa8 = sc.textFile(file)\n",
    "rows = nasa8.map(nasa_to_row)\n",
    "rows8_2 = rows.union(rows)\n",
    "rows8_4 = rows8_2.union(rows8_2)\n",
    "rows8_8 = rows8_4.union(rows8_4)\n",
    "rows8_16 = rows8_8.union(rows8_8)\n",
    "\n",
    "a = eval_runtime(rows)\n",
    "b = eval_runtime(rows8_16)\n",
    "\n",
    "layout['8'] = [float(a),float(b)]\n",
    "\n",
    "stop_spark()\n",
    "start_spark(\"16\")\n",
    "nasa8 = sc.textFile(file)\n",
    "rows = nasa8.map(nasa_to_row)\n",
    "rows8_2 = rows.union(rows)\n",
    "rows8_4 = rows8_2.union(rows8_2)\n",
    "rows8_8 = rows8_4.union(rows8_4)\n",
    "rows8_16 = rows8_8.union(rows8_8)\n",
    "\n",
    "a = eval_runtime(rows)\n",
    "b = eval_runtime(rows8_16)\n",
    "\n",
    "layout['16'] = [float(a),float(b)]\n",
    "layout\n",
    "\n",
    "df = pd.DataFrame(layout,index = ['1x', '16x'])\n",
    "df\n",
    "#test = df.groupBy('resp').agg({'resp': 'count'})\n",
    "df.plot.bar()\n",
    "res"
   ]
  }
 ],
 "metadata": {
  "kernelspec": {
   "display_name": "Python 3",
   "language": "python",
   "name": "python3"
  },
  "language_info": {
   "codemirror_mode": {
    "name": "ipython",
    "version": 3
   },
   "file_extension": ".py",
   "mimetype": "text/x-python",
   "name": "python",
   "nbconvert_exporter": "python",
   "pygments_lexer": "ipython3",
   "version": "3.6.8"
  }
 },
 "nbformat": 4,
 "nbformat_minor": 2
}

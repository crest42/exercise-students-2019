{
 "cells": [
  {
   "cell_type": "code",
   "execution_count": 141,
   "metadata": {},
   "outputs": [
    {
     "name": "stdout",
     "output_type": "stream",
     "text": [
      "/naslx/projects/pn69si/mnmda001/students/mnmda004/exercise-students-2019/02_Python\n"
     ]
    }
   ],
   "source": [
    "!pwd"
   ]
  },
  {
   "cell_type": "code",
   "execution_count": 142,
   "metadata": {},
   "outputs": [],
   "source": [
    "!gzip -k -d -f  ../data/nasa/NASA_access_log_Jul95.gz"
   ]
  },
  {
   "cell_type": "code",
   "execution_count": 143,
   "metadata": {},
   "outputs": [
    {
     "name": "stdout",
     "output_type": "stream",
     "text": [
      "199.72.81.55 - - [01/Jul/1995:00:00:01 -0400] \"GET /history/apollo/ HTTP/1.0\" 200 6245\n",
      "unicomp6.unicomp.net - - [01/Jul/1995:00:00:06 -0400] \"GET /shuttle/countdown/ HTTP/1.0\" 200 3985\n",
      "199.120.110.21 - - [01/Jul/1995:00:00:09 -0400] \"GET /shuttle/missions/sts-73/mission-sts-73.html HTTP/1.0\" 200 4085\n",
      "burger.letters.com - - [01/Jul/1995:00:00:11 -0400] \"GET /shuttle/countdown/liftoff.html HTTP/1.0\" 304 0\n",
      "199.120.110.21 - - [01/Jul/1995:00:00:11 -0400] \"GET /shuttle/missions/sts-73/sts-73-patch-small.gif HTTP/1.0\" 200 4179\n",
      "burger.letters.com - - [01/Jul/1995:00:00:12 -0400] \"GET /images/NASA-logosmall.gif HTTP/1.0\" 304 0\n",
      "burger.letters.com - - [01/Jul/1995:00:00:12 -0400] \"GET /shuttle/countdown/video/livevideo.gif HTTP/1.0\" 200 0\n",
      "205.212.115.106 - - [01/Jul/1995:00:00:12 -0400] \"GET /shuttle/countdown/countdown.html HTTP/1.0\" 200 3985\n",
      "d104.aa.net - - [01/Jul/1995:00:00:13 -0400] \"GET /shuttle/countdown/ HTTP/1.0\" 200 3985\n",
      "129.94.144.152 - - [01/Jul/1995:00:00:13 -0400] \"GET / HTTP/1.0\" 200 7074\n"
     ]
    }
   ],
   "source": [
    "!head ../data/nasa/NASA_access_log_Jul95"
   ]
  },
  {
   "cell_type": "code",
   "execution_count": 145,
   "metadata": {},
   "outputs": [
    {
     "name": "stdout",
     "output_type": "stream",
     "text": [
      " 111144 /images/NASA-logosmall.gif\n"
     ]
    }
   ],
   "source": [
    "#* Which page was called the most?\n",
    "!cat ../data/nasa/NASA_access_log_Jul95 | awk '{print $7}' | sort | uniq -c | sort -n  | tail -1"
   ]
  },
  {
   "cell_type": "code",
   "execution_count": 146,
   "metadata": {},
   "outputs": [
    {
     "name": "stdout",
     "output_type": "stream",
     "text": [
      "1697914 200\n"
     ]
    }
   ],
   "source": [
    "#* What was the most frequent return code?\n",
    "!cat ../data/nasa/NASA_access_log_Jul95 | awk -F' ' '{print $9}' | sort | uniq -c | sort -n | tail -1"
   ]
  },
  {
   "cell_type": "code",
   "execution_count": 175,
   "metadata": {},
   "outputs": [
    {
     "name": "stdout",
     "output_type": "stream",
     "text": [
      "Error:  190180 Total: 1891714 (10.053317%)"
     ]
    }
   ],
   "source": [
    "#* How many errors occurred? What is the percentage of errors?\n",
    "#!cat ../data/nasa/NASA_access_log_Jul95 | awk -F ' ' '{print $(NF-1)}' | grep -P '(\\d){3}' | egrep -v '200' | wc -l\n",
    "!ERR=$(cat ../data/nasa/NASA_access_log_Jul95 | awk -F' ' '{print $(NF-1)}' | grep -P '(\\d){3}' | egrep -v '200' | wc -l) && TOTAL=$(wc -l ../data/nasa/NASA_access_log_Jul95 | awk '{print $1}') && echo \"${ERR} ${TOTAL}\"  | awk '{p = (100/$2)*$1; printf \"Error:  %d Total: %d (%f%%)\",$1,$2,p}'"
   ]
  },
  {
   "cell_type": "code",
   "execution_count": 173,
   "metadata": {},
   "outputs": [],
   "source": [
    "import os\n",
    "TMP_DIR=os.path.join(os.getcwd(), \"tmp\")\n",
    "os.environ[\"HADOOP_HOME\"]=\"/naslx/projects/pn69si/mnmda001/students/software/hadoop-2.8.5\"\n",
    "os.environ[\"JAVA_HOME\"]=\"/lrz/sys/compilers/java/jdk1.8.0_112\"\n",
    "os.environ[\"JAVA_OPTS\"]=\"-Djava.io.tmpdir=\"+TMP_DIR\n",
    "os.environ[\"HADOOP_OPTS\"]=\"-Djava.io.tmpdir=\"+TMP_DIR\n",
    "os.environ[\"PATH\"]=os.path.join(os.environ[\"HADOOP_HOME\"], \"bin\") + \":\"+os.environ[\"PATH\"]"
   ]
  },
  {
   "cell_type": "code",
   "execution_count": 140,
   "metadata": {},
   "outputs": [],
   "source": [
    "!rm -rf /naslx/projects/pn69si/mnmda001/students/mnmda001/exercise-students-2019/03_MapReduce/out\n",
    "!hadoop jar ${HADOOP_HOME}/share/hadoop/tools/lib/hadoop-streaming-2.8.5.jar -mapper 'python /naslx/projects/pn69si/mnmda001/students/mnmda001/exercise-students-2019/03_MapReduce/map_reduce.py map' -reducer 'python /naslx/projects/pn69si/mnmda001/students/mnmda001/exercise-students-2019/03_MapReduce/map_reduce.py reduce' -input ../data/nasa/NASA_access_log_Jul95 -output /naslx/projects/pn69si/mnmda001/students/mnmda001/exercise-students-2019/03_MapReduce/out  >/dev/null 2>/dev/null\n",
    "!echo done"
   ]
  },
  {
   "cell_type": "code",
   "execution_count": 68,
   "metadata": {},
   "outputs": [
    {
     "name": "stdout",
     "output_type": "stream",
     "text": [
      "total 8\n",
      "drwxr-sr-x 2 mnmda001 pn69si 4096 Apr 15 14:27 .\n",
      "drwxr-sr-x 4 mnmda001 pn69si 4096 Apr 15 14:27 ..\n",
      "-rw-r--r-- 1 mnmda001 pn69si    8 Apr 15 14:27 ._SUCCESS.crc\n",
      "-rw-r--r-- 1 mnmda001 pn69si   12 Apr 15 14:27 .part-00000.crc\n",
      "-rw-r--r-- 1 mnmda001 pn69si    0 Apr 15 14:27 _SUCCESS\n",
      "-rw-r--r-- 1 mnmda001 pn69si   64 Apr 15 14:27 part-00000\n",
      "200\t1696876\n",
      "302\t46546\n",
      "304\t132626\n",
      "403\t54\n",
      "404\t10713\n",
      "500\t62\n",
      "501\t14\n"
     ]
    }
   ],
   "source": [
    "!cat  /naslx/projects/pn69si/mnmda001/students/mnmda001/exercise-students-2019/03_MapReduce/out/part-00000"
   ]
  },
  {
   "cell_type": "code",
   "execution_count": 195,
   "metadata": {},
   "outputs": [
    {
     "name": "stdout",
     "output_type": "stream",
     "text": [
      "\n",
      "real\t0m15.415s\n",
      "user\t0m18.507s\n",
      "sys\t0m1.412s\n"
     ]
    }
   ],
   "source": [
    "!rm -rf /naslx/projects/pn69si/mnmda001/students/mnmda001/exercise-students-2019/03_MapReduce//tera_out_0001/\n",
    "!time hadoop jar ${HADOOP_HOME}/share/hadoop/mapreduce/hadoop-mapreduce-examples-2.8.5.jar teragen 10000000  /naslx/projects/pn69si/mnmda001/students/mnmda001/exercise-students-2019/03_MapReduce/tera_out_0001/ >/dev/null 2>/dev/null"
   ]
  },
  {
   "cell_type": "code",
   "execution_count": 187,
   "metadata": {},
   "outputs": [
    {
     "name": "stdout",
     "output_type": "stream",
     "text": [
      "\n",
      "real\t1m6.024s\n",
      "user\t1m41.472s\n",
      "sys\t0m7.364s\n",
      "\n"
     ]
    }
   ],
   "source": [
    "!rm -rf /naslx/projects/pn69si/mnmda001/students/mnmda001/exercise-students-2019/03_MapReduce/tera_sort_0001\n",
    "!time hadoop jar ${HADOOP_HOME}/share/hadoop/mapreduce/hadoop-mapreduce-examples-2.8.5.jar terasort /naslx/projects/pn69si/mnmda001/students/mnmda001/exercise-students-2019/03_MapReduce/tera_out_0001  /naslx/projects/pn69si/mnmda001/students/mnmda001/exercise-students-2019/03_MapReduce/tera_sort_0001  >/dev/null 2>/dev/null"
   ]
  },
  {
   "cell_type": "code",
   "execution_count": 133,
   "metadata": {},
   "outputs": [
    {
     "name": "stdout",
     "output_type": "stream",
     "text": [
      "\n",
      "real\t0m1.865s\n",
      "user\t0m1.613s\n",
      "sys\t0m0.226s\n"
     ]
    }
   ],
   "source": [
    "!rm -rf /naslx/projects/pn69si/mnmda001/students/mnmda001/exercise-students-2019/03_MapReduce/tera_validate_0001\n",
    "!time hadoop jar ${HADOOP_HOME}/share/hadoop/mapreduce/hadoop-mapreduce-examples-2.8.5.jar teravalidate /naslx/projects/pn69si/mnmda001/students/mnmda001/exercise-students-2019/03_MapReduce/tera_sort_0001  /naslx/projects/pn69si/mnmda001/students/mnmda001/exercise-students-2019/03_MapReduce/tera_validate_0001 >/dev/null 2>/dev/null"
   ]
  },
  {
   "cell_type": "code",
   "execution_count": 216,
   "metadata": {},
   "outputs": [
    {
     "data": {
      "text/plain": [
       "<matplotlib.axes._subplots.AxesSubplot at 0x2b4577d42a58>"
      ]
     },
     "execution_count": 216,
     "metadata": {},
     "output_type": "execute_result"
    },
    {
     "data": {
      "image/png": "[encoded data removed]",
      "text/plain": [
       "<Figure size 432x288 with 1 Axes>"
      ]
     },
     "metadata": {
      "needs_background": "light"
     },
     "output_type": "display_data"
    }
   ],
   "source": [
    "import pandas as pd\n",
    "df = pd.DataFrame([[15.415],[66.024],[1.865]])\n",
    "df.plot.bar(use_index=False)\n"
   ]
  },
  {
   "cell_type": "code",
   "execution_count": null,
   "metadata": {},
   "outputs": [],
   "source": []
  },
  {
   "cell_type": "code",
   "execution_count": null,
   "metadata": {},
   "outputs": [],
   "source": []
  }
 ],
 "metadata": {
  "kernelspec": {
   "display_name": "Python 3",
   "language": "python",
   "name": "python3"
  },
  "language_info": {
   "codemirror_mode": {
    "name": "ipython",
    "version": 3
   },
   "file_extension": ".py",
   "mimetype": "text/x-python",
   "name": "python",
   "nbconvert_exporter": "python",
   "pygments_lexer": "ipython3",
   "version": "3.6.8"
  }
 },
 "nbformat": 4,
 "nbformat_minor": 2
}

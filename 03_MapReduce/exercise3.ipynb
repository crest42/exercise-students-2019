{
 "cells": [
  {
   "cell_type": "code",
   "execution_count": 266,
   "metadata": {},
   "outputs": [
    {
     "name": "stdout",
     "output_type": "stream",
     "text": [
      "/naslx/projects/pn69si/mnmda001/students/mnmda004/exercise-students-2019/02_Python\n"
     ]
    }
   ],
   "source": [
    "!pwd"
   ]
  },
  {
   "cell_type": "code",
   "execution_count": 267,
   "metadata": {},
   "outputs": [],
   "source": [
    "!gzip -k -d -f  ../data/nasa/NASA_access_log_Jul95.gz"
   ]
  },
  {
   "cell_type": "code",
   "execution_count": 268,
   "metadata": {},
   "outputs": [
    {
     "name": "stdout",
     "output_type": "stream",
     "text": [
      "199.72.81.55 - - [01/Jul/1995:00:00:01 -0400] \"GET /history/apollo/ HTTP/1.0\" 200 6245\n",
      "unicomp6.unicomp.net - - [01/Jul/1995:00:00:06 -0400] \"GET /shuttle/countdown/ HTTP/1.0\" 200 3985\n",
      "199.120.110.21 - - [01/Jul/1995:00:00:09 -0400] \"GET /shuttle/missions/sts-73/mission-sts-73.html HTTP/1.0\" 200 4085\n",
      "burger.letters.com - - [01/Jul/1995:00:00:11 -0400] \"GET /shuttle/countdown/liftoff.html HTTP/1.0\" 304 0\n",
      "199.120.110.21 - - [01/Jul/1995:00:00:11 -0400] \"GET /shuttle/missions/sts-73/sts-73-patch-small.gif HTTP/1.0\" 200 4179\n",
      "burger.letters.com - - [01/Jul/1995:00:00:12 -0400] \"GET /images/NASA-logosmall.gif HTTP/1.0\" 304 0\n",
      "burger.letters.com - - [01/Jul/1995:00:00:12 -0400] \"GET /shuttle/countdown/video/livevideo.gif HTTP/1.0\" 200 0\n",
      "205.212.115.106 - - [01/Jul/1995:00:00:12 -0400] \"GET /shuttle/countdown/countdown.html HTTP/1.0\" 200 3985\n",
      "d104.aa.net - - [01/Jul/1995:00:00:13 -0400] \"GET /shuttle/countdown/ HTTP/1.0\" 200 3985\n",
      "129.94.144.152 - - [01/Jul/1995:00:00:13 -0400] \"GET / HTTP/1.0\" 200 7074\n"
     ]
    }
   ],
   "source": [
    "!head ../data/nasa/NASA_access_log_Jul95"
   ]
  },
  {
   "cell_type": "code",
   "execution_count": 269,
   "metadata": {},
   "outputs": [
    {
     "name": "stdout",
     "output_type": "stream",
     "text": [
      " 111144 /images/NASA-logosmall.gif\n"
     ]
    }
   ],
   "source": [
    "#* Which page was called the most?\n",
    "!cat ../data/nasa/NASA_access_log_Jul95 | awk '{print $7}' | sort | uniq -c | sort -n  | tail -1"
   ]
  },
  {
   "cell_type": "code",
   "execution_count": 270,
   "metadata": {},
   "outputs": [
    {
     "name": "stdout",
     "output_type": "stream",
     "text": [
      "1697914 200\n"
     ]
    }
   ],
   "source": [
    "#* What was the most frequent return code?\n",
    "!cat ../data/nasa/NASA_access_log_Jul95 | awk -F' ' '{print $9}' | sort | uniq -c | sort -n | tail -1"
   ]
  },
  {
   "cell_type": "code",
   "execution_count": 271,
   "metadata": {},
   "outputs": [
    {
     "name": "stdout",
     "output_type": "stream",
     "text": [
      "Error:  190180 Total: 1891714 (10.053317%)"
     ]
    }
   ],
   "source": [
    "#* How many errors occurred? What is the percentage of errors?\n",
    "#!cat ../data/nasa/NASA_access_log_Jul95 | awk -F ' ' '{print $(NF-1)}' | grep -P '(\\d){3}' | egrep -v '200' | wc -l\n",
    "!ERR=$(cat ../data/nasa/NASA_access_log_Jul95 | awk -F' ' '{print $(NF-1)}' | grep -P '(\\d){3}' | egrep -v '200' | wc -l) && TOTAL=$(wc -l ../data/nasa/NASA_access_log_Jul95 | awk '{print $1}') && echo \"${ERR} ${TOTAL}\"  | awk '{p = (100/$2)*$1; printf \"Error:  %d Total: %d (%f%%)\",$1,$2,p}'"
   ]
  },
  {
   "cell_type": "code",
   "execution_count": 272,
   "metadata": {},
   "outputs": [],
   "source": [
    "import os\n",
    "TMP_DIR=os.path.join(os.getcwd(), \"tmp\")\n",
    "os.environ[\"HADOOP_HOME\"]=\"/naslx/projects/pn69si/mnmda001/students/software/hadoop-2.8.5\"\n",
    "os.environ[\"JAVA_HOME\"]=\"/lrz/sys/compilers/java/jdk1.8.0_112\"\n",
    "os.environ[\"JAVA_OPTS\"]=\"-Djava.io.tmpdir=\"+TMP_DIR\n",
    "os.environ[\"HADOOP_OPTS\"]=\"-Djava.io.tmpdir=\"+TMP_DIR\n",
    "os.environ[\"PATH\"]=os.path.join(os.environ[\"HADOOP_HOME\"], \"bin\") + \":\"+os.environ[\"PATH\"]"
   ]
  },
  {
   "cell_type": "code",
   "execution_count": 273,
   "metadata": {},
   "outputs": [
    {
     "name": "stdout",
     "output_type": "stream",
     "text": [
      "done\n"
     ]
    }
   ],
   "source": [
    "!rm -rf /naslx/projects/pn69si/mnmda001/students/mnmda001/exercise-students-2019/03_MapReduce/out\n",
    "!hadoop jar ${HADOOP_HOME}/share/hadoop/tools/lib/hadoop-streaming-2.8.5.jar -mapper 'python /naslx/projects/pn69si/mnmda001/students/mnmda001/exercise-students-2019/03_MapReduce/map_reduce.py map' -reducer 'python /naslx/projects/pn69si/mnmda001/students/mnmda001/exercise-students-2019/03_MapReduce/map_reduce.py reduce' -input ../data/nasa/NASA_access_log_Jul95 -output /naslx/projects/pn69si/mnmda001/students/mnmda001/exercise-students-2019/03_MapReduce/out  >/dev/null 2>/dev/null\n",
    "!echo done"
   ]
  },
  {
   "cell_type": "code",
   "execution_count": 274,
   "metadata": {},
   "outputs": [
    {
     "name": "stdout",
     "output_type": "stream",
     "text": [
      "200\t1696876\n",
      "302\t46546\n",
      "304\t132626\n",
      "403\t54\n",
      "404\t10713\n",
      "500\t62\n",
      "501\t14\n"
     ]
    }
   ],
   "source": [
    "!cat  /naslx/projects/pn69si/mnmda001/students/mnmda001/exercise-students-2019/03_MapReduce/out/part-00000"
   ]
  },
  {
   "cell_type": "code",
   "execution_count": 279,
   "metadata": {},
   "outputs": [
    {
     "name": "stdout",
     "output_type": "stream",
     "text": [
      "ls: cannot access '/naslx/projects/pn69si/mnmda001/students/software/hadoop-2.8.5/share/hadoop/mapreduce/hadoop-mapreduce-examples-2.8.5.jar': No such file or directory\n",
      "\n",
      "real\t0m0.448s\n",
      "user\t0m0.586s\n",
      "sys\t0m0.143s\n"
     ]
    }
   ],
   "source": [
    "!rm -rf /naslx/projects/pn69si/mnmda001/students/mnmda001/exercise-students-2019/03_MapReduce//tera_out_0001/\n",
    "!ls -la ${HADOOP_HOME}/share/hadoop/mapreduce/hadoop-mapreduce-examples-2.8.5.jar\n",
    "!time hadoop jar ${HADOOP_HOME}/share/hadoop/mapreduce/hadoop-mapreduce-examples-2.8.5.jar teragen 10000000  /naslx/projects/pn69si/mnmda001/students/mnmda001/exercise-students-2019/03_MapReduce/tera_out_0001/ >/dev/null 2>/dev/null"
   ]
  },
  {
   "cell_type": "code",
   "execution_count": 280,
   "metadata": {},
   "outputs": [
    {
     "name": "stdout",
     "output_type": "stream",
     "text": [
      "ls: cannot access '/naslx/projects/pn69si/mnmda001/students/software/hadoop-2.8.5/share/hadoop/mapreduce/hadoop-mapreduce-examples-2.8.5.jar': No such file or directory\n",
      "\n",
      "real\t0m0.456s\n",
      "user\t0m0.611s\n",
      "sys\t0m0.112s\n"
     ]
    }
   ],
   "source": [
    "!rm -rf /naslx/projects/pn69si/mnmda001/students/mnmda001/exercise-students-2019/03_MapReduce/tera_sort_0001\n",
    "!ls -la ${HADOOP_HOME}/share/hadoop/mapreduce/hadoop-mapreduce-examples-2.8.5.jar\n",
    "!time hadoop jar ${HADOOP_HOME}/share/hadoop/mapreduce/hadoop-mapreduce-examples-2.8.5.jar terasort /naslx/projects/pn69si/mnmda001/students/mnmda001/exercise-students-2019/03_MapReduce/tera_out_0001  /naslx/projects/pn69si/mnmda001/students/mnmda001/exercise-students-2019/03_MapReduce/tera_sort_0001  >/dev/null 2>/dev/null"
   ]
  },
  {
   "cell_type": "code",
   "execution_count": 281,
   "metadata": {},
   "outputs": [
    {
     "name": "stdout",
     "output_type": "stream",
     "text": [
      "ls: cannot access '/naslx/projects/pn69si/mnmda001/students/software/hadoop-2.8.5/share/hadoop/mapreduce/hadoop-mapreduce-examples-2.8.5.jar': No such file or directory\n",
      "\n",
      "real\t0m0.446s\n",
      "user\t0m0.635s\n",
      "sys\t0m0.088s\n"
     ]
    }
   ],
   "source": [
    "!rm -rf /naslx/projects/pn69si/mnmda001/students/mnmda001/exercise-students-2019/03_MapReduce/tera_validate_0001\n",
    "!ls -la ${HADOOP_HOME}/share/hadoop/mapreduce/hadoop-mapreduce-examples-2.8.5.jar\n",
    "!time hadoop jar ${HADOOP_HOME}/share/hadoop/mapreduce/hadoop-mapreduce-examples-2.8.5.jar teravalidate /naslx/projects/pn69si/mnmda001/students/mnmda001/exercise-students-2019/03_MapReduce/tera_sort_0001  /naslx/projects/pn69si/mnmda001/students/mnmda001/exercise-students-2019/03_MapReduce/tera_validate_0001  >/dev/null 2>/dev/null"
   ]
  },
  {
   "cell_type": "code",
   "execution_count": 282,
   "metadata": {},
   "outputs": [
    {
     "data": {
      "text/plain": [
       "<matplotlib.axes._subplots.AxesSubplot at 0x2b4578479e10>"
      ]
     },
     "execution_count": 282,
     "metadata": {},
     "output_type": "execute_result"
    },
    {
     "data": {
      "image/png": "[encoded data removed]",
      "text/plain": [
       "<Figure size 432x288 with 1 Axes>"
      ]
     },
     "metadata": {
      "needs_background": "light"
     },
     "output_type": "display_data"
    }
   ],
   "source": [
    "!rm -rf /naslx/projects/pn69si/mnmda001/students/mnmda001/exercise-students-2019/03_MapReduce/tera_out_0001/\n",
    "!rm -rf /naslx/projects/pn69si/mnmda001/students/mnmda001/exercise-students-2019/03_MapReduce/tera_sort_0001/\n",
    "!rm -rf /naslx/projects/pn69si/mnmda001/students/mnmda001/exercise-students-2019/03_MapReduce/tera_validate_0001/\n",
    "\n",
    "import time\n",
    "import pandas as pd\n",
    "\n",
    "t = []\n",
    "start = time.time()\n",
    "os.system('hadoop jar ${HADOOP_HOME}/share/hadoop/mapreduce/hadoop-mapreduce-examples-2.8.5.jar teragen 10  /naslx/projects/pn69si/mnmda001/students/mnmda001/exercise-students-2019/03_MapReduce/tera_out_0001/')\n",
    "t.append(time.time()-start)\n",
    "t\n",
    "start = time.time()\n",
    "os.system('hadoop jar ${HADOOP_HOME}/share/hadoop/mapreduce/hadoop-mapreduce-examples-2.8.5.jar terasort /naslx/projects/pn69si/mnmda001/students/mnmda001/exercise-students-2019/03_MapReduce/tera_out_0001  /naslx/projects/pn69si/mnmda001/students/mnmda001/exercise-students-2019/03_MapReduce/tera_sort_0001')\n",
    "t.append(time.time()-start)\n",
    "start = time.time()\n",
    "os.system('hadoop jar ${HADOOP_HOME}/share/hadoop/mapreduce/hadoop-mapreduce-examples-2.8.5.jar teravalidate /naslx/projects/pn69si/mnmda001/students/mnmda001/exercise-students-2019/03_MapReduce/tera_sort_0001  /naslx/projects/pn69si/mnmda001/students/mnmda001/exercise-students-2019/03_MapReduce/tera_validate_0001')\n",
    "t.append(time.time()-start)\n",
    "t\n",
    "\n",
    "df = pd.DataFrame({'Runtime in Sec': t},index = ['Generate', 'Sort','Validate'])\n",
    "df\n",
    "df.plot.bar()\n"
   ]
  },
  {
   "cell_type": "code",
   "execution_count": null,
   "metadata": {},
   "outputs": [],
   "source": []
  },
  {
   "cell_type": "code",
   "execution_count": null,
   "metadata": {},
   "outputs": [],
   "source": []
  }
 ],
 "metadata": {
  "kernelspec": {
   "display_name": "Python 3",
   "language": "python",
   "name": "python3"
  },
  "language_info": {
   "codemirror_mode": {
    "name": "ipython",
    "version": 3
   },
   "file_extension": ".py",
   "mimetype": "text/x-python",
   "name": "python",
   "nbconvert_exporter": "python",
   "pygments_lexer": "ipython3",
   "version": "3.6.8"
  }
 },
 "nbformat": 4,
 "nbformat_minor": 2
}

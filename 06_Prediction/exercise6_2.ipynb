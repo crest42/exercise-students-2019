{
 "cells": [
  {
   "cell_type": "code",
   "execution_count": 1,
   "metadata": {},
   "outputs": [],
   "source": [
    "%matplotlib inline\n",
    "import csv\n",
    "import requests # pip install requests for easy http request for CSV data\n",
    "import numpy as np\n",
    "import pandas as pd\n",
    "from sklearn.model_selection import train_test_split\n",
    "from sklearn.metrics import confusion_matrix, accuracy_score \n",
    "from sklearn import linear_model, datasets, preprocessing, metrics\n"
   ]
  },
  {
   "cell_type": "markdown",
   "metadata": {},
   "source": [
    "1. Load the Galton dataset into a Pandas dataframe?"
   ]
  },
  {
   "cell_type": "code",
   "execution_count": 2,
   "metadata": {},
   "outputs": [],
   "source": [
    "df=pd.read_csv(\"http://www.randomservices.org/random/data/Galton.txt\", sep=\"\\t\")"
   ]
  },
  {
   "cell_type": "markdown",
   "metadata": {},
   "source": [
    "2. Summarize the dataset:\n",
    "    * Number of rows\n",
    "    * Average height of male/female kids\n",
    "    * Std deviation of male/female kids"
   ]
  },
  {
   "cell_type": "code",
   "execution_count": 3,
   "metadata": {},
   "outputs": [
    {
     "name": "stdout",
     "output_type": "stream",
     "text": [
      "male avg: 69.22881720430108\n",
      "female avg: 64.11016166281756\n"
     ]
    }
   ],
   "source": [
    "male = df['Gender'] == \"M\"\n",
    "female = df['Gender'] == \"F\"\n",
    "\n",
    "male_avg = np.average(df[male]['Height'])\n",
    "female_avg = np.average(df[female]['Height'])\n",
    "\n",
    "print(\"male avg: \" + str(male_avg))\n",
    "print(\"female avg: \" + str(female_avg))"
   ]
  },
  {
   "cell_type": "code",
   "execution_count": 4,
   "metadata": {},
   "outputs": [
    {
     "name": "stdout",
     "output_type": "stream",
     "text": [
      "male std: 2.6287630884482325\n",
      "female std: 2.367580931200028\n"
     ]
    }
   ],
   "source": [
    "male = df['Gender'] == \"M\"\n",
    "female = df['Gender'] == \"F\"\n",
    "\n",
    "male_std = np.std(df[male]['Height'])\n",
    "female_std = np.std(df[female]['Height'])\n",
    "\n",
    "print(\"male std: \" + str(male_std))\n",
    "print(\"female std: \" + str(female_std))"
   ]
  },
  {
   "cell_type": "markdown",
   "metadata": {},
   "source": [
    "Create a training and test dataset. The test dataset should be at least 25%."
   ]
  },
  {
   "cell_type": "code",
   "execution_count": 5,
   "metadata": {},
   "outputs": [],
   "source": [
    "df\n",
    "\n",
    "X_father = df[['Father']]\n",
    "X_mother = df[['Mother']]\n",
    "\n",
    "y = df['Height']\n",
    "           \n",
    "X_train_mother, X_test_mother, y_train_mother, y_test_mother = train_test_split(X_mother, y, test_size=0.25, random_state=42)\n",
    "X_train_father, X_test_father, y_train_father, y_test_father = train_test_split(X_father, y, test_size=0.25, random_state=42)\n",
    "\n",
    "#lab_enc = preprocessing.LabelEncoder()\n",
    "#y_train_father = lab_enc.fit_transform(y_train_father)\n",
    "\n",
    "#lab_enc = preprocessing.LabelEncoder()\n",
    "#y_train_mother = lab_enc.fit_transform(y_train_mother)"
   ]
  },
  {
   "cell_type": "markdown",
   "metadata": {},
   "source": [
    "4. Create 2 regression models: for predicting the childs height based on (i) father height and (ii) mother's height!"
   ]
  },
  {
   "cell_type": "code",
   "execution_count": 6,
   "metadata": {},
   "outputs": [],
   "source": [
    "model_father = linear_model.LinearRegression()\n",
    "model_father.fit(X_train_father, y_train_father)\n",
    "\n",
    "model_mother = linear_model.LinearRegression()\n",
    "model_mother.fit(X_train_mother, y_train_mother)\n",
    "\n",
    "pred_father = model_father.predict(X_test_father)\n",
    "pred_mother = model_mother.predict(X_test_mother)\n"
   ]
  },
  {
   "cell_type": "markdown",
   "metadata": {},
   "source": [
    "5. Compute the model quality parameters: $R^{2}$ and $MSE$! "
   ]
  },
  {
   "cell_type": "code",
   "execution_count": 7,
   "metadata": {},
   "outputs": [
    {
     "name": "stdout",
     "output_type": "stream",
     "text": [
      "MSE Father: 11.56529244006722 MSE Mother: 11.439403452832908\n",
      "R^2 Father: 0.041313375962950705 R^2 Mother: 0.05174874444157118\n"
     ]
    }
   ],
   "source": [
    "mse_father = metrics.mean_squared_error(y_test_father,pred_father)\n",
    "mse_mother = metrics.mean_squared_error(y_test_mother,pred_mother)\n",
    "\n",
    "r_squared_father = metrics.r2_score(y_test_father,pred_father)\n",
    "r_squared_mother = metrics.r2_score(y_test_mother,pred_mother)\n",
    "\n",
    "print(\"MSE Father: \" + str(mse_father) + \" MSE Mother: \" + str(mse_mother))\n",
    "print(\"R^2 Father: \" + str(r_squared_father) + \" R^2 Mother: \" + str(r_squared_mother))"
   ]
  },
  {
   "cell_type": "markdown",
   "metadata": {},
   "source": [
    "6. Create a multi-variate regression model including both the mother and father height as features! How does the $R^{2}$ change?"
   ]
  },
  {
   "cell_type": "code",
   "execution_count": 8,
   "metadata": {},
   "outputs": [
    {
     "name": "stdout",
     "output_type": "stream",
     "text": [
      "R^2 All: 0.07640810797419273 MSE All: 11.141920684751984\n"
     ]
    }
   ],
   "source": [
    "X_all = df[['Father','Mother']]\n",
    "X_train_all, X_test_all, y_train_all, y_test_all = train_test_split(X_all, y, test_size=0.25, random_state=42)\n",
    "\n",
    "model_all = linear_model.LinearRegression()\n",
    "model_all.fit(X_train_all, y_train_all)\n",
    "\n",
    "pred_all = model_all.predict(X_test_all)\n",
    "r_squared_all = metrics.r2_score(y_test_all, pred_all)\n",
    "mse_all = metrics.mean_squared_error(pred_all,y_test_all)\n",
    "#print(\"MSE Father: \" + str(mse_father) + \" MSE Mother: \" + str(mse_mother))\n",
    "print(\"R^2 All: \" + str(r_squared_all) + \" MSE All: \" + str(mse_all))"
   ]
  },
  {
   "cell_type": "markdown",
   "metadata": {},
   "source": [
    "7. Create a Spark MLlib model for the same task!"
   ]
  },
  {
   "cell_type": "code",
   "execution_count": 9,
   "metadata": {},
   "outputs": [
    {
     "name": "stdout",
     "output_type": "stream",
     "text": [
      "PySpark initiated...\n",
      "+-----------+------+\n",
      "|target2    |Height|\n",
      "+-----------+------+\n",
      "|[78.5,67.0]|73.2  |\n",
      "|[78.5,67.0]|69.2  |\n",
      "|[78.5,67.0]|69.0  |\n",
      "|[78.5,67.0]|69.0  |\n",
      "|[75.5,66.5]|73.5  |\n",
      "|[75.5,66.5]|72.5  |\n",
      "|[75.5,66.5]|65.5  |\n",
      "|[75.5,66.5]|65.5  |\n",
      "|[75.0,64.0]|71.0  |\n",
      "|[75.0,64.0]|68.0  |\n",
      "|[75.0,64.0]|70.5  |\n",
      "|[75.0,64.0]|68.5  |\n",
      "|[75.0,64.0]|67.0  |\n",
      "|[75.0,64.0]|64.5  |\n",
      "|[75.0,64.0]|63.0  |\n",
      "|[75.0,58.5]|72.0  |\n",
      "|[75.0,58.5]|69.0  |\n",
      "|[75.0,58.5]|68.0  |\n",
      "|[75.0,58.5]|66.5  |\n",
      "|[75.0,58.5]|62.5  |\n",
      "+-----------+------+\n",
      "only showing top 20 rows\n",
      "\n"
     ]
    }
   ],
   "source": [
    "# Initialize PySpark\n",
    "import os, sys\n",
    "os.environ[\"JAVA_HOME\"]=\"/lrz/sys/compilers/java/jdk1.8.0_112\"\n",
    "APP_NAME = \"PySpark Lecture\"\n",
    "SPARK_MASTER=\"local[16]\"\n",
    "import pyspark\n",
    "import pyspark.sql\n",
    "from pyspark.sql import Row\n",
    "conf=pyspark.SparkConf()\n",
    "conf=pyspark.SparkConf().setAppName(APP_NAME).set(\"spark.local.dir\", os.path.join(os.getcwd(), \"tmp\"))\n",
    "sc = pyspark.SparkContext(master=SPARK_MASTER, conf=conf)\n",
    "spark = pyspark.sql.SparkSession(sc).builder.appName(APP_NAME).getOrCreate()\n",
    "\n",
    "print(\"PySpark initiated...\")\n",
    "\n",
    "\n",
    "from pyspark.ml.linalg import Vectors\n",
    "from pyspark.ml.feature import VectorAssembler\n",
    "from pyspark.ml.classification import LogisticRegression\n",
    "\n",
    "\n",
    "spark_df = spark.createDataFrame(df)\n",
    "#dataset = iris_df\n",
    "\n",
    "#dataset = spark.createDataFrame(\n",
    "#    [(0, 18, 1.0, Vectors.dense([0.0, 10.0, 0.5]), 1.0)],\n",
    " #   [\"id\", \"hour\", \"mobile\", \"userFeatures\", \"clicked\"])\n",
    "\n",
    "assembler = VectorAssembler(\n",
    "    inputCols=[\"Father\", \"Mother\"],\n",
    "    outputCol=\"target2\")\n",
    "\n",
    "output = assembler.transform(spark_df)\n",
    "output.select(\"target2\", \"Height\").show(truncate=False)\n"
   ]
  },
  {
   "cell_type": "code",
   "execution_count": 10,
   "metadata": {},
   "outputs": [
    {
     "name": "stdout",
     "output_type": "stream",
     "text": [
      "+------+------+------+------+------+----+-----------+\n",
      "|Family|Father|Mother|Gender|Height|Kids|    target2|\n",
      "+------+------+------+------+------+----+-----------+\n",
      "|   155|  68.0|  60.0|     F|  56.0|   7|[68.0,60.0]|\n",
      "|   185|  66.0|  59.0|     F|  57.0|  15|[66.0,59.0]|\n",
      "|   204|  62.5|  63.0|     F|  57.0|   2|[62.5,63.0]|\n",
      "|   176|  66.5|  65.0|     F|  57.5|   8|[66.5,65.0]|\n",
      "|   185|  66.0|  59.0|     F|  58.0|  15|[66.0,59.0]|\n",
      "|   190|  65.0|  65.0|     F|  59.0|   9|[65.0,65.0]|\n",
      "|   109|  69.5|  64.5|     M|  60.0|   7|[69.5,64.5]|\n",
      "|   155|  68.0|  60.0|     F|  60.0|   7|[68.0,60.0]|\n",
      "|   188|  65.0|  66.0|     F|  60.0|   4|[65.0,66.0]|\n",
      "|    64|  70.0|  67.0|     F|  60.0|   5|[70.0,67.0]|\n",
      "|   109|  69.5|  64.5|     F|  60.0|   7|[69.5,64.5]|\n",
      "|   164|  67.0|  65.5|     F|  60.0|   4|[67.0,65.5]|\n",
      "|   183|  66.0|  60.0|     F|  60.0|   4|[66.0,60.0]|\n",
      "|   155|  68.0|  60.0|     F|  60.0|   7|[68.0,60.0]|\n",
      "|    56|  71.0|  62.0|     F|  60.0|   5|[71.0,62.0]|\n",
      "|   173|  66.0|  67.0|     F|  60.0|   9|[66.0,67.0]|\n",
      "|   173|  66.0|  67.0|     F|  60.0|   9|[66.0,67.0]|\n",
      "|    91|  70.5|  62.0|     F|  60.0|   3|[70.5,62.0]|\n",
      "|    80|  70.5|  64.5|     F|  60.0|   1|[70.5,64.5]|\n",
      "|   155|  68.0|  60.0|     F|  60.0|   7|[68.0,60.0]|\n",
      "+------+------+------+------+------+----+-----------+\n",
      "only showing top 20 rows\n",
      "\n"
     ]
    }
   ],
   "source": [
    "output.sort(\"Height\").show()"
   ]
  },
  {
   "cell_type": "code",
   "execution_count": null,
   "metadata": {},
   "outputs": [],
   "source": []
  },
  {
   "cell_type": "code",
   "execution_count": null,
   "metadata": {},
   "outputs": [],
   "source": []
  }
 ],
 "metadata": {
  "kernelspec": {
   "display_name": "Python 3",
   "language": "python",
   "name": "python3"
  },
  "language_info": {
   "codemirror_mode": {
    "name": "ipython",
    "version": 3
   },
   "file_extension": ".py",
   "mimetype": "text/x-python",
   "name": "python",
   "nbconvert_exporter": "python",
   "pygments_lexer": "ipython3",
   "version": "3.6.8"
  }
 },
 "nbformat": 4,
 "nbformat_minor": 2
}
